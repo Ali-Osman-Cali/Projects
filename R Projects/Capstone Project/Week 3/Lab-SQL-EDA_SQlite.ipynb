{
 "cells": [
  {
   "cell_type": "markdown",
   "metadata": {},
   "source": [
    "<center>\n",
    "<img src=\"https://cf-courses-data.s3.us.cloud-object-storage.appdomain.cloud/IBMDeveloperSkillsNetwork-RP0321EN-SkillsNetwork/labs/module_1/images/SN_web_lightmode.png\" width=\"300\"> \n",
    "</center>\n",
    "\n",
    "# Assignment: Exploratory Data Analysis with SQL\n",
    "Estimated time needed: 60 minutes\n",
    "\n",
    "\n",
    "# Introduction\n",
    "Using this R notebook you will perform exploratory data analysis using SQL queries with the RSQLite R package. You will be graded on the accuracy of your results as well as the content of your SQL queries.\n"
   ]
  },
  {
   "cell_type": "code",
   "execution_count": 1,
   "metadata": {
    "tags": []
   },
   "outputs": [
    {
     "name": "stderr",
     "output_type": "stream",
     "text": [
      "also installing the dependencies ‘fastmap’, ‘bit’, ‘rlang’, ‘cachem’, ‘bit64’, ‘blob’, ‘DBI’, ‘memoise’, ‘cpp11’\n",
      "\n",
      "Updating HTML index of packages in '.Library'\n",
      "Making 'packages.html' ... done\n"
     ]
    }
   ],
   "source": [
    "install.packages(c('RSQLite'), repos = 'http://cran.rstudio.com',dependecies=TRUE)"
   ]
  },
  {
   "cell_type": "code",
   "execution_count": 1,
   "metadata": {
    "tags": []
   },
   "outputs": [],
   "source": [
    "library(\"RSQLite\")"
   ]
  },
  {
   "cell_type": "code",
   "execution_count": 2,
   "metadata": {
    "tags": []
   },
   "outputs": [
    {
     "name": "stderr",
     "output_type": "stream",
     "text": [
      "Warning message:\n",
      "“replacing previous import ‘lifecycle::last_warnings’ by ‘rlang::last_warnings’ when loading ‘tibble’”Warning message:\n",
      "“replacing previous import ‘ellipsis::check_dots_unnamed’ by ‘rlang::check_dots_unnamed’ when loading ‘tibble’”Warning message:\n",
      "“replacing previous import ‘ellipsis::check_dots_used’ by ‘rlang::check_dots_used’ when loading ‘tibble’”Warning message:\n",
      "“replacing previous import ‘ellipsis::check_dots_empty’ by ‘rlang::check_dots_empty’ when loading ‘tibble’”"
     ]
    }
   ],
   "source": [
    "library(readr)"
   ]
  },
  {
   "cell_type": "markdown",
   "metadata": {},
   "source": [
    "### Establish your SQlIte connection\n",
    "Load the 'RSQLite' library, and use the 'dbConnect( )' function as you did in the previous lab to establish the connection to your SQLite database.  \n",
    "You are now ready to start running SQL queries using the RSQLite library as you did in Course 3.\n"
   ]
  },
  {
   "cell_type": "code",
   "execution_count": 3,
   "metadata": {
    "tags": []
   },
   "outputs": [],
   "source": [
    "# provide your solution here\n",
    "conn <- dbConnect(RSQLite::SQLite(),\"Lab-SQL-EDA.sqlite\")"
   ]
  },
  {
   "cell_type": "markdown",
   "metadata": {},
   "source": [
    "Download the following csv files:\n",
    "\n",
    "*   [WORLD_CITIES](https://cf-courses-data.s3.us.cloud-object-storage.appdomain.cloud/IBMDeveloperSkillsNetwork-RP0321EN-SkillsNetwork/labs/datasets/world_cities.csv)\n",
    "\n",
    "*   [BIKE_SHARING_SYSTEMS](https://cf-courses-data.s3.us.cloud-object-storage.appdomain.cloud/IBMDeveloperSkillsNetwork-RP0321EN-SkillsNetwork/labs/datasets/bike_sharing_systems.csv)\n",
    "\n",
    "*   [CITIES_WEATHER_FORECAST](https://cf-courses-data.s3.us.cloud-object-storage.appdomain.cloud/IBMDeveloperSkillsNetwork-RP0321EN-SkillsNetwork/labs/datasets/cities_weather_forecast.csv)\n",
    "\n",
    "*   [SEOUL_BIKE_SHARING](https://cf-courses-data.s3.us.cloud-object-storage.appdomain.cloud/IBMDeveloperSkillsNetwork-RP0321EN-SkillsNetwork/labs/datasets/seoul_bike_sharing.csv)\n",
    "\n",
    "and load the csv's  into 4 tables as mentioned below\n",
    "* SEOUL_BIKE_SHARING\n",
    "\n",
    "* CITIES_WEATHER_FORECAST\n",
    "\n",
    "* BIKE_SHARING_SYSTEMS \n",
    "\n",
    "*  WORLD_CITIES\n",
    "\n",
    "> Hint : Use the read_csv() function and dbWriteTable() functions\n"
   ]
  },
  {
   "cell_type": "code",
   "execution_count": 4,
   "metadata": {
    "tags": []
   },
   "outputs": [
    {
     "name": "stderr",
     "output_type": "stream",
     "text": [
      "Parsed with column specification:\n",
      "cols(\n",
      "  DATE = col_character(),\n",
      "  RENTED_BIKE_COUNT = col_double(),\n",
      "  HOUR = col_double(),\n",
      "  TEMPERATURE = col_double(),\n",
      "  HUMIDITY = col_double(),\n",
      "  WIND_SPEED = col_double(),\n",
      "  VISIBILITY = col_double(),\n",
      "  DEW_POINT_TEMPERATURE = col_double(),\n",
      "  SOLAR_RADIATION = col_double(),\n",
      "  RAINFALL = col_double(),\n",
      "  SNOWFALL = col_double(),\n",
      "  SEASONS = col_character(),\n",
      "  HOLIDAY = col_character(),\n",
      "  FUNCTIONING_DAY = col_character()\n",
      ")\n",
      "Parsed with column specification:\n",
      "cols(\n",
      "  CITY = col_character(),\n",
      "  WEATHER = col_character(),\n",
      "  VISIBILITY = col_double(),\n",
      "  TEMP = col_double(),\n",
      "  TEMP_MIN = col_double(),\n",
      "  TEMP_MAX = col_double(),\n",
      "  PRESSURE = col_double(),\n",
      "  HUMIDITY = col_double(),\n",
      "  WIND_SPEED = col_double(),\n",
      "  WIND_DEG = col_double(),\n",
      "  SEASON = col_character(),\n",
      "  FORECAST_DATETIME = col_datetime(format = \"\")\n",
      ")\n",
      "Parsed with column specification:\n",
      "cols(\n",
      "  COUNTRY = col_character(),\n",
      "  CITY = col_character(),\n",
      "  SYSTEM = col_character(),\n",
      "  BICYCLES = col_double()\n",
      ")\n",
      "Parsed with column specification:\n",
      "cols(\n",
      "  CITY = col_character(),\n",
      "  CITY_ASCII = col_character(),\n",
      "  LAT = col_double(),\n",
      "  LNG = col_double(),\n",
      "  COUNTRY = col_character(),\n",
      "  ISO2 = col_character(),\n",
      "  ISO3 = col_character(),\n",
      "  ADMIN_NAME = col_character(),\n",
      "  CAPITAL = col_character(),\n",
      "  POPULATION = col_double(),\n",
      "  ID = col_double()\n",
      ")\n"
     ]
    }
   ],
   "source": [
    "SEOUL_BIKE_SHARING <- read_csv(\"https://cf-courses-data.s3.us.cloud-object-storage.appdomain.cloud/IBMDeveloperSkillsNetwork-RP0321EN-SkillsNetwork/labs/datasets/seoul_bike_sharing.csv\")\n",
    "CITIES_WEATHER_FORECAST <- read_csv(\"https://cf-courses-data.s3.us.cloud-object-storage.appdomain.cloud/IBMDeveloperSkillsNetwork-RP0321EN-SkillsNetwork/labs/datasets/cities_weather_forecast.csv\")\n",
    "BIKE_SHARING_SYSTEMS <- read_csv(\"https://cf-courses-data.s3.us.cloud-object-storage.appdomain.cloud/IBMDeveloperSkillsNetwork-RP0321EN-SkillsNetwork/labs/datasets/bike_sharing_systems.csv\")\n",
    "WORLD_CITIES <- read_csv(\"https://cf-courses-data.s3.us.cloud-object-storage.appdomain.cloud/IBMDeveloperSkillsNetwork-RP0321EN-SkillsNetwork/labs/datasets/world_cities.csv\")\n",
    "\n",
    "dbWriteTable(conn, \"SEOUL_BIKE_SHARING\", SEOUL_BIKE_SHARING, overwrite = TRUE)\n",
    "dbWriteTable(conn, \"CITIES_WEATHER_FORECAST\", CITIES_WEATHER_FORECAST, overwrite = TRUE)\n",
    "dbWriteTable(conn, \"BIKE_SHARING_SYSTEMS\", BIKE_SHARING_SYSTEMS, overwrite = TRUE)\n",
    "dbWriteTable(conn, \"WORLD_CITIES\", WORLD_CITIES, overwrite = TRUE)\n"
   ]
  },
  {
   "cell_type": "markdown",
   "metadata": {},
   "source": [
    "\n",
    "## Task 1 - Record Count\n",
    "#### Determine how many records are in the seoul_bike_sharing dataset.\n"
   ]
  },
  {
   "cell_type": "markdown",
   "metadata": {},
   "source": [
    "### Solution 1\n"
   ]
  },
  {
   "cell_type": "code",
   "execution_count": 6,
   "metadata": {
    "tags": []
   },
   "outputs": [
    {
     "data": {
      "text/html": [
       "<table>\n",
       "<caption>A data.frame: 1 × 1</caption>\n",
       "<thead>\n",
       "\t<tr><th scope=col>COUNT(*)</th></tr>\n",
       "\t<tr><th scope=col>&lt;int&gt;</th></tr>\n",
       "</thead>\n",
       "<tbody>\n",
       "\t<tr><td>8465</td></tr>\n",
       "</tbody>\n",
       "</table>\n"
      ],
      "text/latex": [
       "A data.frame: 1 × 1\n",
       "\\begin{tabular}{l}\n",
       " COUNT(*)\\\\\n",
       " <int>\\\\\n",
       "\\hline\n",
       "\t 8465\\\\\n",
       "\\end{tabular}\n"
      ],
      "text/markdown": [
       "\n",
       "A data.frame: 1 × 1\n",
       "\n",
       "| COUNT(*) &lt;int&gt; |\n",
       "|---|\n",
       "| 8465 |\n",
       "\n"
      ],
      "text/plain": [
       "  COUNT(*)\n",
       "1 8465    "
      ]
     },
     "metadata": {},
     "output_type": "display_data"
    }
   ],
   "source": [
    "dbGetQuery(conn, \"SELECT COUNT(*) FROM SEOUL_BIKE_SHARING\")"
   ]
  },
  {
   "cell_type": "markdown",
   "metadata": {},
   "source": [
    "## Task 2 - Operational Hours\n",
    "#### Determine how many hours had non-zero rented bike count.\n"
   ]
  },
  {
   "cell_type": "markdown",
   "metadata": {},
   "source": [
    "### Solution 2\n"
   ]
  },
  {
   "cell_type": "code",
   "execution_count": 7,
   "metadata": {
    "tags": []
   },
   "outputs": [
    {
     "data": {
      "text/html": [
       "<table>\n",
       "<caption>A data.frame: 1 × 1</caption>\n",
       "<thead>\n",
       "\t<tr><th scope=col>COUNT(*)</th></tr>\n",
       "\t<tr><th scope=col>&lt;int&gt;</th></tr>\n",
       "</thead>\n",
       "<tbody>\n",
       "\t<tr><td>8465</td></tr>\n",
       "</tbody>\n",
       "</table>\n"
      ],
      "text/latex": [
       "A data.frame: 1 × 1\n",
       "\\begin{tabular}{l}\n",
       " COUNT(*)\\\\\n",
       " <int>\\\\\n",
       "\\hline\n",
       "\t 8465\\\\\n",
       "\\end{tabular}\n"
      ],
      "text/markdown": [
       "\n",
       "A data.frame: 1 × 1\n",
       "\n",
       "| COUNT(*) &lt;int&gt; |\n",
       "|---|\n",
       "| 8465 |\n",
       "\n"
      ],
      "text/plain": [
       "  COUNT(*)\n",
       "1 8465    "
      ]
     },
     "metadata": {},
     "output_type": "display_data"
    }
   ],
   "source": [
    "dbGetQuery(conn, \"SELECT COUNT(*) FROM SEOUL_BIKE_SHARING WHERE RENTED_BIKE_COUNT != 0\")"
   ]
  },
  {
   "cell_type": "markdown",
   "metadata": {},
   "source": [
    "## Task 3 - Weather Outlook\n",
    "#### Query the the weather forecast for Seoul over the next 3 hours.\n",
    "Recall that the records in the CITIES_WEATHER_FORECAST dataset are 3 hours apart, so we just need the first record from the query.\n"
   ]
  },
  {
   "cell_type": "markdown",
   "metadata": {},
   "source": [
    "### Solution 3\n"
   ]
  },
  {
   "cell_type": "code",
   "execution_count": 8,
   "metadata": {
    "tags": []
   },
   "outputs": [
    {
     "data": {
      "text/html": [
       "<table>\n",
       "<caption>A data.frame: 1 × 12</caption>\n",
       "<thead>\n",
       "\t<tr><th scope=col>CITY</th><th scope=col>WEATHER</th><th scope=col>VISIBILITY</th><th scope=col>TEMP</th><th scope=col>TEMP_MIN</th><th scope=col>TEMP_MAX</th><th scope=col>PRESSURE</th><th scope=col>HUMIDITY</th><th scope=col>WIND_SPEED</th><th scope=col>WIND_DEG</th><th scope=col>SEASON</th><th scope=col>FORECAST_DATETIME</th></tr>\n",
       "\t<tr><th scope=col>&lt;chr&gt;</th><th scope=col>&lt;chr&gt;</th><th scope=col>&lt;dbl&gt;</th><th scope=col>&lt;dbl&gt;</th><th scope=col>&lt;dbl&gt;</th><th scope=col>&lt;dbl&gt;</th><th scope=col>&lt;dbl&gt;</th><th scope=col>&lt;dbl&gt;</th><th scope=col>&lt;dbl&gt;</th><th scope=col>&lt;dbl&gt;</th><th scope=col>&lt;chr&gt;</th><th scope=col>&lt;dbl&gt;</th></tr>\n",
       "</thead>\n",
       "<tbody>\n",
       "\t<tr><td>Seoul</td><td>Clear</td><td>10000</td><td>12.32</td><td>10.91</td><td>12.32</td><td>1015</td><td>50</td><td>2.18</td><td>248</td><td>Spring</td><td>1618574400</td></tr>\n",
       "</tbody>\n",
       "</table>\n"
      ],
      "text/latex": [
       "A data.frame: 1 × 12\n",
       "\\begin{tabular}{llllllllllll}\n",
       " CITY & WEATHER & VISIBILITY & TEMP & TEMP\\_MIN & TEMP\\_MAX & PRESSURE & HUMIDITY & WIND\\_SPEED & WIND\\_DEG & SEASON & FORECAST\\_DATETIME\\\\\n",
       " <chr> & <chr> & <dbl> & <dbl> & <dbl> & <dbl> & <dbl> & <dbl> & <dbl> & <dbl> & <chr> & <dbl>\\\\\n",
       "\\hline\n",
       "\t Seoul & Clear & 10000 & 12.32 & 10.91 & 12.32 & 1015 & 50 & 2.18 & 248 & Spring & 1618574400\\\\\n",
       "\\end{tabular}\n"
      ],
      "text/markdown": [
       "\n",
       "A data.frame: 1 × 12\n",
       "\n",
       "| CITY &lt;chr&gt; | WEATHER &lt;chr&gt; | VISIBILITY &lt;dbl&gt; | TEMP &lt;dbl&gt; | TEMP_MIN &lt;dbl&gt; | TEMP_MAX &lt;dbl&gt; | PRESSURE &lt;dbl&gt; | HUMIDITY &lt;dbl&gt; | WIND_SPEED &lt;dbl&gt; | WIND_DEG &lt;dbl&gt; | SEASON &lt;chr&gt; | FORECAST_DATETIME &lt;dbl&gt; |\n",
       "|---|---|---|---|---|---|---|---|---|---|---|---|\n",
       "| Seoul | Clear | 10000 | 12.32 | 10.91 | 12.32 | 1015 | 50 | 2.18 | 248 | Spring | 1618574400 |\n",
       "\n"
      ],
      "text/plain": [
       "  CITY  WEATHER VISIBILITY TEMP  TEMP_MIN TEMP_MAX PRESSURE HUMIDITY WIND_SPEED\n",
       "1 Seoul Clear   10000      12.32 10.91    12.32    1015     50       2.18      \n",
       "  WIND_DEG SEASON FORECAST_DATETIME\n",
       "1 248      Spring 1618574400       "
      ]
     },
     "metadata": {},
     "output_type": "display_data"
    }
   ],
   "source": [
    "dbGetQuery(conn, \"SELECT * FROM CITIES_WEATHER_FORECAST WHERE CITY = 'Seoul' LIMIT 1\")"
   ]
  },
  {
   "cell_type": "markdown",
   "metadata": {},
   "source": [
    "## Task 4 - Seasons\n",
    "#### Find which seasons are included in the seoul bike sharing dataset.\n"
   ]
  },
  {
   "cell_type": "markdown",
   "metadata": {},
   "source": [
    "### Solution 4\n"
   ]
  },
  {
   "cell_type": "code",
   "execution_count": 11,
   "metadata": {
    "tags": []
   },
   "outputs": [
    {
     "data": {
      "text/html": [
       "<table>\n",
       "<caption>A data.frame: 4 × 1</caption>\n",
       "<thead>\n",
       "\t<tr><th scope=col>SEASONS</th></tr>\n",
       "\t<tr><th scope=col>&lt;chr&gt;</th></tr>\n",
       "</thead>\n",
       "<tbody>\n",
       "\t<tr><td>Winter</td></tr>\n",
       "\t<tr><td>Spring</td></tr>\n",
       "\t<tr><td>Summer</td></tr>\n",
       "\t<tr><td>Autumn</td></tr>\n",
       "</tbody>\n",
       "</table>\n"
      ],
      "text/latex": [
       "A data.frame: 4 × 1\n",
       "\\begin{tabular}{l}\n",
       " SEASONS\\\\\n",
       " <chr>\\\\\n",
       "\\hline\n",
       "\t Winter\\\\\n",
       "\t Spring\\\\\n",
       "\t Summer\\\\\n",
       "\t Autumn\\\\\n",
       "\\end{tabular}\n"
      ],
      "text/markdown": [
       "\n",
       "A data.frame: 4 × 1\n",
       "\n",
       "| SEASONS &lt;chr&gt; |\n",
       "|---|\n",
       "| Winter |\n",
       "| Spring |\n",
       "| Summer |\n",
       "| Autumn |\n",
       "\n"
      ],
      "text/plain": [
       "  SEASONS\n",
       "1 Winter \n",
       "2 Spring \n",
       "3 Summer \n",
       "4 Autumn "
      ]
     },
     "metadata": {},
     "output_type": "display_data"
    }
   ],
   "source": [
    "dbGetQuery(conn, \"SELECT DISTINCT SEASONS FROM SEOUL_BIKE_SHARING\")"
   ]
  },
  {
   "cell_type": "markdown",
   "metadata": {},
   "source": [
    "## Task 5 - Date Range\n",
    "#### Find the first and last dates in the Seoul Bike Sharing dataset.\n"
   ]
  },
  {
   "cell_type": "markdown",
   "metadata": {},
   "source": [
    "### Solution 5\n"
   ]
  },
  {
   "cell_type": "code",
   "execution_count": 12,
   "metadata": {
    "tags": []
   },
   "outputs": [
    {
     "data": {
      "text/html": [
       "<table>\n",
       "<caption>A data.frame: 1 × 2</caption>\n",
       "<thead>\n",
       "\t<tr><th scope=col>first_date</th><th scope=col>last_date</th></tr>\n",
       "\t<tr><th scope=col>&lt;chr&gt;</th><th scope=col>&lt;chr&gt;</th></tr>\n",
       "</thead>\n",
       "<tbody>\n",
       "\t<tr><td>01/01/2018</td><td>31/12/2017</td></tr>\n",
       "</tbody>\n",
       "</table>\n"
      ],
      "text/latex": [
       "A data.frame: 1 × 2\n",
       "\\begin{tabular}{ll}\n",
       " first\\_date & last\\_date\\\\\n",
       " <chr> & <chr>\\\\\n",
       "\\hline\n",
       "\t 01/01/2018 & 31/12/2017\\\\\n",
       "\\end{tabular}\n"
      ],
      "text/markdown": [
       "\n",
       "A data.frame: 1 × 2\n",
       "\n",
       "| first_date &lt;chr&gt; | last_date &lt;chr&gt; |\n",
       "|---|---|\n",
       "| 01/01/2018 | 31/12/2017 |\n",
       "\n"
      ],
      "text/plain": [
       "  first_date last_date \n",
       "1 01/01/2018 31/12/2017"
      ]
     },
     "metadata": {},
     "output_type": "display_data"
    }
   ],
   "source": [
    "dbGetQuery(conn, \"SELECT MIN(DATE) AS first_date, MAX(DATE) AS last_date FROM SEOUL_BIKE_SHARING\")"
   ]
  },
  {
   "cell_type": "markdown",
   "metadata": {},
   "source": [
    "## Task 6 - Subquery - 'all-time high'\n",
    "#### determine which date and hour had the most bike rentals.\n"
   ]
  },
  {
   "cell_type": "markdown",
   "metadata": {},
   "source": [
    "### Solution 6\n"
   ]
  },
  {
   "cell_type": "code",
   "execution_count": 17,
   "metadata": {
    "tags": []
   },
   "outputs": [
    {
     "data": {
      "text/html": [
       "<table>\n",
       "<caption>A data.frame: 1 × 2</caption>\n",
       "<thead>\n",
       "\t<tr><th scope=col>DATE</th><th scope=col>HOUR</th></tr>\n",
       "\t<tr><th scope=col>&lt;chr&gt;</th><th scope=col>&lt;dbl&gt;</th></tr>\n",
       "</thead>\n",
       "<tbody>\n",
       "\t<tr><td>19/06/2018</td><td>18</td></tr>\n",
       "</tbody>\n",
       "</table>\n"
      ],
      "text/latex": [
       "A data.frame: 1 × 2\n",
       "\\begin{tabular}{ll}\n",
       " DATE & HOUR\\\\\n",
       " <chr> & <dbl>\\\\\n",
       "\\hline\n",
       "\t 19/06/2018 & 18\\\\\n",
       "\\end{tabular}\n"
      ],
      "text/markdown": [
       "\n",
       "A data.frame: 1 × 2\n",
       "\n",
       "| DATE &lt;chr&gt; | HOUR &lt;dbl&gt; |\n",
       "|---|---|\n",
       "| 19/06/2018 | 18 |\n",
       "\n"
      ],
      "text/plain": [
       "  DATE       HOUR\n",
       "1 19/06/2018 18  "
      ]
     },
     "metadata": {},
     "output_type": "display_data"
    }
   ],
   "source": [
    "dbGetQuery(conn, \"\n",
    "SELECT DATE,\n",
    "       HOUR\n",
    "FROM SEOUL_BIKE_SHARING\n",
    "WHERE RENTED_BIKE_COUNT = (SELECT MAX(RENTED_BIKE_COUNT) FROM SEOUL_BIKE_SHARING)\n",
    "\")"
   ]
  },
  {
   "cell_type": "markdown",
   "metadata": {},
   "source": [
    "## Task 7 - Hourly popularity and temperature by season\n",
    "#### Determine the average hourly temperature and the average number of bike rentals per hour over each season. List the top ten results by average bike count.\n"
   ]
  },
  {
   "cell_type": "markdown",
   "metadata": {},
   "source": [
    "### Solution 7\n"
   ]
  },
  {
   "cell_type": "code",
   "execution_count": 18,
   "metadata": {
    "tags": []
   },
   "outputs": [
    {
     "data": {
      "text/html": [
       "<table>\n",
       "<caption>A data.frame: 10 × 4</caption>\n",
       "<thead>\n",
       "\t<tr><th scope=col>SEASONS</th><th scope=col>HOUR</th><th scope=col>avg_temperature</th><th scope=col>avg_bike_count</th></tr>\n",
       "\t<tr><th scope=col>&lt;chr&gt;</th><th scope=col>&lt;dbl&gt;</th><th scope=col>&lt;dbl&gt;</th><th scope=col>&lt;dbl&gt;</th></tr>\n",
       "</thead>\n",
       "<tbody>\n",
       "\t<tr><td>Summer</td><td>18</td><td>29.38791</td><td>2135.141</td></tr>\n",
       "\t<tr><td>Autumn</td><td>18</td><td>16.03185</td><td>1983.333</td></tr>\n",
       "\t<tr><td>Summer</td><td>19</td><td>28.27378</td><td>1889.250</td></tr>\n",
       "\t<tr><td>Summer</td><td>20</td><td>27.06630</td><td>1801.924</td></tr>\n",
       "\t<tr><td>Summer</td><td>21</td><td>26.27826</td><td>1754.065</td></tr>\n",
       "\t<tr><td>Spring</td><td>18</td><td>15.97222</td><td>1689.311</td></tr>\n",
       "\t<tr><td>Summer</td><td>22</td><td>25.69891</td><td>1567.870</td></tr>\n",
       "\t<tr><td>Autumn</td><td>17</td><td>17.27778</td><td>1562.877</td></tr>\n",
       "\t<tr><td>Summer</td><td>17</td><td>30.07691</td><td>1526.293</td></tr>\n",
       "\t<tr><td>Autumn</td><td>19</td><td>15.06346</td><td>1515.568</td></tr>\n",
       "</tbody>\n",
       "</table>\n"
      ],
      "text/latex": [
       "A data.frame: 10 × 4\n",
       "\\begin{tabular}{llll}\n",
       " SEASONS & HOUR & avg\\_temperature & avg\\_bike\\_count\\\\\n",
       " <chr> & <dbl> & <dbl> & <dbl>\\\\\n",
       "\\hline\n",
       "\t Summer & 18 & 29.38791 & 2135.141\\\\\n",
       "\t Autumn & 18 & 16.03185 & 1983.333\\\\\n",
       "\t Summer & 19 & 28.27378 & 1889.250\\\\\n",
       "\t Summer & 20 & 27.06630 & 1801.924\\\\\n",
       "\t Summer & 21 & 26.27826 & 1754.065\\\\\n",
       "\t Spring & 18 & 15.97222 & 1689.311\\\\\n",
       "\t Summer & 22 & 25.69891 & 1567.870\\\\\n",
       "\t Autumn & 17 & 17.27778 & 1562.877\\\\\n",
       "\t Summer & 17 & 30.07691 & 1526.293\\\\\n",
       "\t Autumn & 19 & 15.06346 & 1515.568\\\\\n",
       "\\end{tabular}\n"
      ],
      "text/markdown": [
       "\n",
       "A data.frame: 10 × 4\n",
       "\n",
       "| SEASONS &lt;chr&gt; | HOUR &lt;dbl&gt; | avg_temperature &lt;dbl&gt; | avg_bike_count &lt;dbl&gt; |\n",
       "|---|---|---|---|\n",
       "| Summer | 18 | 29.38791 | 2135.141 |\n",
       "| Autumn | 18 | 16.03185 | 1983.333 |\n",
       "| Summer | 19 | 28.27378 | 1889.250 |\n",
       "| Summer | 20 | 27.06630 | 1801.924 |\n",
       "| Summer | 21 | 26.27826 | 1754.065 |\n",
       "| Spring | 18 | 15.97222 | 1689.311 |\n",
       "| Summer | 22 | 25.69891 | 1567.870 |\n",
       "| Autumn | 17 | 17.27778 | 1562.877 |\n",
       "| Summer | 17 | 30.07691 | 1526.293 |\n",
       "| Autumn | 19 | 15.06346 | 1515.568 |\n",
       "\n"
      ],
      "text/plain": [
       "   SEASONS HOUR avg_temperature avg_bike_count\n",
       "1  Summer  18   29.38791        2135.141      \n",
       "2  Autumn  18   16.03185        1983.333      \n",
       "3  Summer  19   28.27378        1889.250      \n",
       "4  Summer  20   27.06630        1801.924      \n",
       "5  Summer  21   26.27826        1754.065      \n",
       "6  Spring  18   15.97222        1689.311      \n",
       "7  Summer  22   25.69891        1567.870      \n",
       "8  Autumn  17   17.27778        1562.877      \n",
       "9  Summer  17   30.07691        1526.293      \n",
       "10 Autumn  19   15.06346        1515.568      "
      ]
     },
     "metadata": {},
     "output_type": "display_data"
    }
   ],
   "source": [
    "dbGetQuery(conn, \"\n",
    "SELECT SEASONS,\n",
    "       HOUR,\n",
    "       AVG(TEMPERATURE) AS avg_temperature,\n",
    "       AVG(RENTED_BIKE_COUNT) AS avg_bike_count\n",
    "FROM SEOUL_BIKE_SHARING\n",
    "GROUP BY SEASONS, HOUR\n",
    "ORDER BY avg_bike_count DESC\n",
    "LIMIT 10\n",
    "\")"
   ]
  },
  {
   "cell_type": "markdown",
   "metadata": {},
   "source": [
    "## Task 8 - Rental Seasonality\n",
    "#### Find the average hourly bike count during each season. \n",
    "Also include the minimum, maximum, and standard deviation of the hourly bike count for each season. \n",
    "\n",
    "> Hint : Use the SQRT(AVG(col*col) - AVG(col)*AVG(col) ) function where col refers to your column name for finding the standard deviation\n"
   ]
  },
  {
   "cell_type": "markdown",
   "metadata": {},
   "source": [
    "### Solution 8\n"
   ]
  },
  {
   "cell_type": "code",
   "execution_count": 15,
   "metadata": {
    "tags": []
   },
   "outputs": [
    {
     "data": {
      "text/html": [
       "<table>\n",
       "<caption>A data.frame: 96 × 6</caption>\n",
       "<thead>\n",
       "\t<tr><th scope=col>SEASONS</th><th scope=col>HOUR</th><th scope=col>avg_bike_count</th><th scope=col>min_bike_count</th><th scope=col>max_bike_count</th><th scope=col>std_dev_bike_count</th></tr>\n",
       "\t<tr><th scope=col>&lt;chr&gt;</th><th scope=col>&lt;dbl&gt;</th><th scope=col>&lt;dbl&gt;</th><th scope=col>&lt;dbl&gt;</th><th scope=col>&lt;dbl&gt;</th><th scope=col>&lt;dbl&gt;</th></tr>\n",
       "</thead>\n",
       "<tbody>\n",
       "\t<tr><td>Autumn</td><td> 0</td><td> 709.4375</td><td>119</td><td>1336</td><td>219.14298</td></tr>\n",
       "\t<tr><td>Autumn</td><td> 1</td><td> 552.5000</td><td>144</td><td>1001</td><td>191.54216</td></tr>\n",
       "\t<tr><td>Autumn</td><td> 2</td><td> 377.4750</td><td> 55</td><td> 785</td><td>144.90134</td></tr>\n",
       "\t<tr><td>Autumn</td><td> 3</td><td> 256.5500</td><td> 28</td><td> 514</td><td>102.53108</td></tr>\n",
       "\t<tr><td>Autumn</td><td> 4</td><td> 169.0250</td><td> 24</td><td> 338</td><td> 58.63957</td></tr>\n",
       "\t<tr><td>Autumn</td><td> 5</td><td> 163.4125</td><td> 24</td><td> 264</td><td> 53.88174</td></tr>\n",
       "\t<tr><td>Autumn</td><td> 6</td><td> 359.4875</td><td> 23</td><td> 691</td><td>180.27049</td></tr>\n",
       "\t<tr><td>Autumn</td><td> 7</td><td> 788.8765</td><td>  5</td><td>1556</td><td>457.96861</td></tr>\n",
       "\t<tr><td>Autumn</td><td> 8</td><td>1345.0370</td><td>  6</td><td>2391</td><td>758.35956</td></tr>\n",
       "\t<tr><td>Autumn</td><td> 9</td><td> 848.4321</td><td>  5</td><td>1322</td><td>334.52653</td></tr>\n",
       "\t<tr><td>Autumn</td><td>10</td><td> 715.2716</td><td>  2</td><td>1113</td><td>252.56839</td></tr>\n",
       "\t<tr><td>Autumn</td><td>11</td><td> 802.9506</td><td> 20</td><td>1284</td><td>302.57238</td></tr>\n",
       "\t<tr><td>Autumn</td><td>12</td><td> 934.6420</td><td> 17</td><td>1634</td><td>347.69066</td></tr>\n",
       "\t<tr><td>Autumn</td><td>13</td><td>1002.6667</td><td> 18</td><td>1849</td><td>369.30997</td></tr>\n",
       "\t<tr><td>Autumn</td><td>14</td><td>1058.8272</td><td> 17</td><td>1995</td><td>403.85277</td></tr>\n",
       "\t<tr><td>Autumn</td><td>15</td><td>1156.7037</td><td>  8</td><td>2200</td><td>455.21810</td></tr>\n",
       "\t<tr><td>Autumn</td><td>16</td><td>1293.2099</td><td> 14</td><td>2270</td><td>498.10638</td></tr>\n",
       "\t<tr><td>Autumn</td><td>17</td><td>1562.8765</td><td> 23</td><td>2432</td><td>554.31649</td></tr>\n",
       "\t<tr><td>Autumn</td><td>18</td><td>1983.3333</td><td> 40</td><td>3298</td><td>778.44135</td></tr>\n",
       "\t<tr><td>Autumn</td><td>19</td><td>1515.5679</td><td> 19</td><td>2518</td><td>571.14972</td></tr>\n",
       "\t<tr><td>Autumn</td><td>20</td><td>1321.7037</td><td> 12</td><td>2259</td><td>508.99136</td></tr>\n",
       "\t<tr><td>Autumn</td><td>21</td><td>1253.8148</td><td> 21</td><td>2212</td><td>490.92858</td></tr>\n",
       "\t<tr><td>Autumn</td><td>22</td><td>1130.2099</td><td> 14</td><td>1868</td><td>411.96934</td></tr>\n",
       "\t<tr><td>Autumn</td><td>23</td><td> 828.7284</td><td>  4</td><td>1523</td><td>292.97832</td></tr>\n",
       "\t<tr><td>Spring</td><td> 0</td><td> 481.0889</td><td> 22</td><td>1089</td><td>253.38673</td></tr>\n",
       "\t<tr><td>Spring</td><td> 1</td><td> 363.9444</td><td> 23</td><td> 837</td><td>206.04322</td></tr>\n",
       "\t<tr><td>Spring</td><td> 2</td><td> 252.9667</td><td>  9</td><td> 590</td><td>145.32266</td></tr>\n",
       "\t<tr><td>Spring</td><td> 3</td><td> 168.4778</td><td>  2</td><td> 423</td><td>101.20444</td></tr>\n",
       "\t<tr><td>Spring</td><td> 4</td><td> 108.2222</td><td>  2</td><td> 252</td><td> 59.64577</td></tr>\n",
       "\t<tr><td>Spring</td><td> 5</td><td> 116.1778</td><td>  6</td><td> 265</td><td> 64.93117</td></tr>\n",
       "\t<tr><td>⋮</td><td>⋮</td><td>⋮</td><td>⋮</td><td>⋮</td><td>⋮</td></tr>\n",
       "\t<tr><td>Summer</td><td>18</td><td>2135.14130</td><td>17</td><td>3556</td><td>884.08294</td></tr>\n",
       "\t<tr><td>Summer</td><td>19</td><td>1889.25000</td><td>18</td><td>2984</td><td>728.87994</td></tr>\n",
       "\t<tr><td>Summer</td><td>20</td><td>1801.92391</td><td>10</td><td>2579</td><td>662.21626</td></tr>\n",
       "\t<tr><td>Summer</td><td>21</td><td>1754.06522</td><td>17</td><td>2505</td><td>596.13742</td></tr>\n",
       "\t<tr><td>Summer</td><td>22</td><td>1567.86957</td><td>16</td><td>2309</td><td>516.64344</td></tr>\n",
       "\t<tr><td>Summer</td><td>23</td><td>1153.90217</td><td>15</td><td>1732</td><td>377.80666</td></tr>\n",
       "\t<tr><td>Winter</td><td> 0</td><td> 165.17778</td><td>42</td><td> 342</td><td> 63.81163</td></tr>\n",
       "\t<tr><td>Winter</td><td> 1</td><td> 159.05556</td><td>43</td><td> 337</td><td> 65.84247</td></tr>\n",
       "\t<tr><td>Winter</td><td> 2</td><td> 117.78889</td><td>38</td><td> 312</td><td> 54.94533</td></tr>\n",
       "\t<tr><td>Winter</td><td> 3</td><td>  77.81111</td><td>21</td><td> 230</td><td> 37.68256</td></tr>\n",
       "\t<tr><td>Winter</td><td> 4</td><td>  50.47778</td><td>20</td><td> 120</td><td> 19.05561</td></tr>\n",
       "\t<tr><td>Winter</td><td> 5</td><td>  51.22222</td><td>13</td><td> 100</td><td> 18.98759</td></tr>\n",
       "\t<tr><td>Winter</td><td> 6</td><td>  92.82222</td><td> 9</td><td> 200</td><td> 45.48372</td></tr>\n",
       "\t<tr><td>Winter</td><td> 7</td><td> 209.56667</td><td> 3</td><td> 498</td><td>125.47121</td></tr>\n",
       "\t<tr><td>Winter</td><td> 8</td><td> 422.20000</td><td> 4</td><td> 937</td><td>253.13778</td></tr>\n",
       "\t<tr><td>Winter</td><td> 9</td><td> 254.60000</td><td> 3</td><td> 509</td><td>111.70276</td></tr>\n",
       "\t<tr><td>Winter</td><td>10</td><td> 186.40000</td><td> 4</td><td> 339</td><td> 67.98150</td></tr>\n",
       "\t<tr><td>Winter</td><td>11</td><td> 228.32222</td><td> 9</td><td> 388</td><td> 78.23964</td></tr>\n",
       "\t<tr><td>Winter</td><td>12</td><td> 263.63333</td><td> 4</td><td> 479</td><td> 88.68163</td></tr>\n",
       "\t<tr><td>Winter</td><td>13</td><td> 275.25556</td><td> 7</td><td> 606</td><td> 98.32616</td></tr>\n",
       "\t<tr><td>Winter</td><td>14</td><td> 284.28889</td><td>17</td><td> 611</td><td>105.02394</td></tr>\n",
       "\t<tr><td>Winter</td><td>15</td><td> 298.64444</td><td> 7</td><td> 621</td><td>117.54473</td></tr>\n",
       "\t<tr><td>Winter</td><td>16</td><td> 308.57778</td><td> 9</td><td> 688</td><td>126.50569</td></tr>\n",
       "\t<tr><td>Winter</td><td>17</td><td> 342.51111</td><td> 8</td><td> 646</td><td>131.99514</td></tr>\n",
       "\t<tr><td>Winter</td><td>18</td><td> 438.30000</td><td>11</td><td> 929</td><td>216.66413</td></tr>\n",
       "\t<tr><td>Winter</td><td>19</td><td> 304.03333</td><td>19</td><td> 619</td><td>140.32070</td></tr>\n",
       "\t<tr><td>Winter</td><td>20</td><td> 243.23333</td><td> 8</td><td> 483</td><td> 96.22694</td></tr>\n",
       "\t<tr><td>Winter</td><td>21</td><td> 240.50000</td><td>10</td><td> 512</td><td> 98.08061</td></tr>\n",
       "\t<tr><td>Winter</td><td>22</td><td> 225.13333</td><td>13</td><td> 461</td><td> 91.87687</td></tr>\n",
       "\t<tr><td>Winter</td><td>23</td><td> 173.43333</td><td>23</td><td> 366</td><td> 67.49684</td></tr>\n",
       "</tbody>\n",
       "</table>\n"
      ],
      "text/latex": [
       "A data.frame: 96 × 6\n",
       "\\begin{tabular}{llllll}\n",
       " SEASONS & HOUR & avg\\_bike\\_count & min\\_bike\\_count & max\\_bike\\_count & std\\_dev\\_bike\\_count\\\\\n",
       " <chr> & <dbl> & <dbl> & <dbl> & <dbl> & <dbl>\\\\\n",
       "\\hline\n",
       "\t Autumn &  0 &  709.4375 & 119 & 1336 & 219.14298\\\\\n",
       "\t Autumn &  1 &  552.5000 & 144 & 1001 & 191.54216\\\\\n",
       "\t Autumn &  2 &  377.4750 &  55 &  785 & 144.90134\\\\\n",
       "\t Autumn &  3 &  256.5500 &  28 &  514 & 102.53108\\\\\n",
       "\t Autumn &  4 &  169.0250 &  24 &  338 &  58.63957\\\\\n",
       "\t Autumn &  5 &  163.4125 &  24 &  264 &  53.88174\\\\\n",
       "\t Autumn &  6 &  359.4875 &  23 &  691 & 180.27049\\\\\n",
       "\t Autumn &  7 &  788.8765 &   5 & 1556 & 457.96861\\\\\n",
       "\t Autumn &  8 & 1345.0370 &   6 & 2391 & 758.35956\\\\\n",
       "\t Autumn &  9 &  848.4321 &   5 & 1322 & 334.52653\\\\\n",
       "\t Autumn & 10 &  715.2716 &   2 & 1113 & 252.56839\\\\\n",
       "\t Autumn & 11 &  802.9506 &  20 & 1284 & 302.57238\\\\\n",
       "\t Autumn & 12 &  934.6420 &  17 & 1634 & 347.69066\\\\\n",
       "\t Autumn & 13 & 1002.6667 &  18 & 1849 & 369.30997\\\\\n",
       "\t Autumn & 14 & 1058.8272 &  17 & 1995 & 403.85277\\\\\n",
       "\t Autumn & 15 & 1156.7037 &   8 & 2200 & 455.21810\\\\\n",
       "\t Autumn & 16 & 1293.2099 &  14 & 2270 & 498.10638\\\\\n",
       "\t Autumn & 17 & 1562.8765 &  23 & 2432 & 554.31649\\\\\n",
       "\t Autumn & 18 & 1983.3333 &  40 & 3298 & 778.44135\\\\\n",
       "\t Autumn & 19 & 1515.5679 &  19 & 2518 & 571.14972\\\\\n",
       "\t Autumn & 20 & 1321.7037 &  12 & 2259 & 508.99136\\\\\n",
       "\t Autumn & 21 & 1253.8148 &  21 & 2212 & 490.92858\\\\\n",
       "\t Autumn & 22 & 1130.2099 &  14 & 1868 & 411.96934\\\\\n",
       "\t Autumn & 23 &  828.7284 &   4 & 1523 & 292.97832\\\\\n",
       "\t Spring &  0 &  481.0889 &  22 & 1089 & 253.38673\\\\\n",
       "\t Spring &  1 &  363.9444 &  23 &  837 & 206.04322\\\\\n",
       "\t Spring &  2 &  252.9667 &   9 &  590 & 145.32266\\\\\n",
       "\t Spring &  3 &  168.4778 &   2 &  423 & 101.20444\\\\\n",
       "\t Spring &  4 &  108.2222 &   2 &  252 &  59.64577\\\\\n",
       "\t Spring &  5 &  116.1778 &   6 &  265 &  64.93117\\\\\n",
       "\t ⋮ & ⋮ & ⋮ & ⋮ & ⋮ & ⋮\\\\\n",
       "\t Summer & 18 & 2135.14130 & 17 & 3556 & 884.08294\\\\\n",
       "\t Summer & 19 & 1889.25000 & 18 & 2984 & 728.87994\\\\\n",
       "\t Summer & 20 & 1801.92391 & 10 & 2579 & 662.21626\\\\\n",
       "\t Summer & 21 & 1754.06522 & 17 & 2505 & 596.13742\\\\\n",
       "\t Summer & 22 & 1567.86957 & 16 & 2309 & 516.64344\\\\\n",
       "\t Summer & 23 & 1153.90217 & 15 & 1732 & 377.80666\\\\\n",
       "\t Winter &  0 &  165.17778 & 42 &  342 &  63.81163\\\\\n",
       "\t Winter &  1 &  159.05556 & 43 &  337 &  65.84247\\\\\n",
       "\t Winter &  2 &  117.78889 & 38 &  312 &  54.94533\\\\\n",
       "\t Winter &  3 &   77.81111 & 21 &  230 &  37.68256\\\\\n",
       "\t Winter &  4 &   50.47778 & 20 &  120 &  19.05561\\\\\n",
       "\t Winter &  5 &   51.22222 & 13 &  100 &  18.98759\\\\\n",
       "\t Winter &  6 &   92.82222 &  9 &  200 &  45.48372\\\\\n",
       "\t Winter &  7 &  209.56667 &  3 &  498 & 125.47121\\\\\n",
       "\t Winter &  8 &  422.20000 &  4 &  937 & 253.13778\\\\\n",
       "\t Winter &  9 &  254.60000 &  3 &  509 & 111.70276\\\\\n",
       "\t Winter & 10 &  186.40000 &  4 &  339 &  67.98150\\\\\n",
       "\t Winter & 11 &  228.32222 &  9 &  388 &  78.23964\\\\\n",
       "\t Winter & 12 &  263.63333 &  4 &  479 &  88.68163\\\\\n",
       "\t Winter & 13 &  275.25556 &  7 &  606 &  98.32616\\\\\n",
       "\t Winter & 14 &  284.28889 & 17 &  611 & 105.02394\\\\\n",
       "\t Winter & 15 &  298.64444 &  7 &  621 & 117.54473\\\\\n",
       "\t Winter & 16 &  308.57778 &  9 &  688 & 126.50569\\\\\n",
       "\t Winter & 17 &  342.51111 &  8 &  646 & 131.99514\\\\\n",
       "\t Winter & 18 &  438.30000 & 11 &  929 & 216.66413\\\\\n",
       "\t Winter & 19 &  304.03333 & 19 &  619 & 140.32070\\\\\n",
       "\t Winter & 20 &  243.23333 &  8 &  483 &  96.22694\\\\\n",
       "\t Winter & 21 &  240.50000 & 10 &  512 &  98.08061\\\\\n",
       "\t Winter & 22 &  225.13333 & 13 &  461 &  91.87687\\\\\n",
       "\t Winter & 23 &  173.43333 & 23 &  366 &  67.49684\\\\\n",
       "\\end{tabular}\n"
      ],
      "text/markdown": [
       "\n",
       "A data.frame: 96 × 6\n",
       "\n",
       "| SEASONS &lt;chr&gt; | HOUR &lt;dbl&gt; | avg_bike_count &lt;dbl&gt; | min_bike_count &lt;dbl&gt; | max_bike_count &lt;dbl&gt; | std_dev_bike_count &lt;dbl&gt; |\n",
       "|---|---|---|---|---|---|\n",
       "| Autumn |  0 |  709.4375 | 119 | 1336 | 219.14298 |\n",
       "| Autumn |  1 |  552.5000 | 144 | 1001 | 191.54216 |\n",
       "| Autumn |  2 |  377.4750 |  55 |  785 | 144.90134 |\n",
       "| Autumn |  3 |  256.5500 |  28 |  514 | 102.53108 |\n",
       "| Autumn |  4 |  169.0250 |  24 |  338 |  58.63957 |\n",
       "| Autumn |  5 |  163.4125 |  24 |  264 |  53.88174 |\n",
       "| Autumn |  6 |  359.4875 |  23 |  691 | 180.27049 |\n",
       "| Autumn |  7 |  788.8765 |   5 | 1556 | 457.96861 |\n",
       "| Autumn |  8 | 1345.0370 |   6 | 2391 | 758.35956 |\n",
       "| Autumn |  9 |  848.4321 |   5 | 1322 | 334.52653 |\n",
       "| Autumn | 10 |  715.2716 |   2 | 1113 | 252.56839 |\n",
       "| Autumn | 11 |  802.9506 |  20 | 1284 | 302.57238 |\n",
       "| Autumn | 12 |  934.6420 |  17 | 1634 | 347.69066 |\n",
       "| Autumn | 13 | 1002.6667 |  18 | 1849 | 369.30997 |\n",
       "| Autumn | 14 | 1058.8272 |  17 | 1995 | 403.85277 |\n",
       "| Autumn | 15 | 1156.7037 |   8 | 2200 | 455.21810 |\n",
       "| Autumn | 16 | 1293.2099 |  14 | 2270 | 498.10638 |\n",
       "| Autumn | 17 | 1562.8765 |  23 | 2432 | 554.31649 |\n",
       "| Autumn | 18 | 1983.3333 |  40 | 3298 | 778.44135 |\n",
       "| Autumn | 19 | 1515.5679 |  19 | 2518 | 571.14972 |\n",
       "| Autumn | 20 | 1321.7037 |  12 | 2259 | 508.99136 |\n",
       "| Autumn | 21 | 1253.8148 |  21 | 2212 | 490.92858 |\n",
       "| Autumn | 22 | 1130.2099 |  14 | 1868 | 411.96934 |\n",
       "| Autumn | 23 |  828.7284 |   4 | 1523 | 292.97832 |\n",
       "| Spring |  0 |  481.0889 |  22 | 1089 | 253.38673 |\n",
       "| Spring |  1 |  363.9444 |  23 |  837 | 206.04322 |\n",
       "| Spring |  2 |  252.9667 |   9 |  590 | 145.32266 |\n",
       "| Spring |  3 |  168.4778 |   2 |  423 | 101.20444 |\n",
       "| Spring |  4 |  108.2222 |   2 |  252 |  59.64577 |\n",
       "| Spring |  5 |  116.1778 |   6 |  265 |  64.93117 |\n",
       "| ⋮ | ⋮ | ⋮ | ⋮ | ⋮ | ⋮ |\n",
       "| Summer | 18 | 2135.14130 | 17 | 3556 | 884.08294 |\n",
       "| Summer | 19 | 1889.25000 | 18 | 2984 | 728.87994 |\n",
       "| Summer | 20 | 1801.92391 | 10 | 2579 | 662.21626 |\n",
       "| Summer | 21 | 1754.06522 | 17 | 2505 | 596.13742 |\n",
       "| Summer | 22 | 1567.86957 | 16 | 2309 | 516.64344 |\n",
       "| Summer | 23 | 1153.90217 | 15 | 1732 | 377.80666 |\n",
       "| Winter |  0 |  165.17778 | 42 |  342 |  63.81163 |\n",
       "| Winter |  1 |  159.05556 | 43 |  337 |  65.84247 |\n",
       "| Winter |  2 |  117.78889 | 38 |  312 |  54.94533 |\n",
       "| Winter |  3 |   77.81111 | 21 |  230 |  37.68256 |\n",
       "| Winter |  4 |   50.47778 | 20 |  120 |  19.05561 |\n",
       "| Winter |  5 |   51.22222 | 13 |  100 |  18.98759 |\n",
       "| Winter |  6 |   92.82222 |  9 |  200 |  45.48372 |\n",
       "| Winter |  7 |  209.56667 |  3 |  498 | 125.47121 |\n",
       "| Winter |  8 |  422.20000 |  4 |  937 | 253.13778 |\n",
       "| Winter |  9 |  254.60000 |  3 |  509 | 111.70276 |\n",
       "| Winter | 10 |  186.40000 |  4 |  339 |  67.98150 |\n",
       "| Winter | 11 |  228.32222 |  9 |  388 |  78.23964 |\n",
       "| Winter | 12 |  263.63333 |  4 |  479 |  88.68163 |\n",
       "| Winter | 13 |  275.25556 |  7 |  606 |  98.32616 |\n",
       "| Winter | 14 |  284.28889 | 17 |  611 | 105.02394 |\n",
       "| Winter | 15 |  298.64444 |  7 |  621 | 117.54473 |\n",
       "| Winter | 16 |  308.57778 |  9 |  688 | 126.50569 |\n",
       "| Winter | 17 |  342.51111 |  8 |  646 | 131.99514 |\n",
       "| Winter | 18 |  438.30000 | 11 |  929 | 216.66413 |\n",
       "| Winter | 19 |  304.03333 | 19 |  619 | 140.32070 |\n",
       "| Winter | 20 |  243.23333 |  8 |  483 |  96.22694 |\n",
       "| Winter | 21 |  240.50000 | 10 |  512 |  98.08061 |\n",
       "| Winter | 22 |  225.13333 | 13 |  461 |  91.87687 |\n",
       "| Winter | 23 |  173.43333 | 23 |  366 |  67.49684 |\n",
       "\n"
      ],
      "text/plain": [
       "   SEASONS HOUR avg_bike_count min_bike_count max_bike_count std_dev_bike_count\n",
       "1  Autumn   0    709.4375      119            1336           219.14298         \n",
       "2  Autumn   1    552.5000      144            1001           191.54216         \n",
       "3  Autumn   2    377.4750       55             785           144.90134         \n",
       "4  Autumn   3    256.5500       28             514           102.53108         \n",
       "5  Autumn   4    169.0250       24             338            58.63957         \n",
       "6  Autumn   5    163.4125       24             264            53.88174         \n",
       "7  Autumn   6    359.4875       23             691           180.27049         \n",
       "8  Autumn   7    788.8765        5            1556           457.96861         \n",
       "9  Autumn   8   1345.0370        6            2391           758.35956         \n",
       "10 Autumn   9    848.4321        5            1322           334.52653         \n",
       "11 Autumn  10    715.2716        2            1113           252.56839         \n",
       "12 Autumn  11    802.9506       20            1284           302.57238         \n",
       "13 Autumn  12    934.6420       17            1634           347.69066         \n",
       "14 Autumn  13   1002.6667       18            1849           369.30997         \n",
       "15 Autumn  14   1058.8272       17            1995           403.85277         \n",
       "16 Autumn  15   1156.7037        8            2200           455.21810         \n",
       "17 Autumn  16   1293.2099       14            2270           498.10638         \n",
       "18 Autumn  17   1562.8765       23            2432           554.31649         \n",
       "19 Autumn  18   1983.3333       40            3298           778.44135         \n",
       "20 Autumn  19   1515.5679       19            2518           571.14972         \n",
       "21 Autumn  20   1321.7037       12            2259           508.99136         \n",
       "22 Autumn  21   1253.8148       21            2212           490.92858         \n",
       "23 Autumn  22   1130.2099       14            1868           411.96934         \n",
       "24 Autumn  23    828.7284        4            1523           292.97832         \n",
       "25 Spring   0    481.0889       22            1089           253.38673         \n",
       "26 Spring   1    363.9444       23             837           206.04322         \n",
       "27 Spring   2    252.9667        9             590           145.32266         \n",
       "28 Spring   3    168.4778        2             423           101.20444         \n",
       "29 Spring   4    108.2222        2             252            59.64577         \n",
       "30 Spring   5    116.1778        6             265            64.93117         \n",
       "⋮  ⋮       ⋮    ⋮              ⋮              ⋮              ⋮                 \n",
       "67 Summer  18   2135.14130     17             3556           884.08294         \n",
       "68 Summer  19   1889.25000     18             2984           728.87994         \n",
       "69 Summer  20   1801.92391     10             2579           662.21626         \n",
       "70 Summer  21   1754.06522     17             2505           596.13742         \n",
       "71 Summer  22   1567.86957     16             2309           516.64344         \n",
       "72 Summer  23   1153.90217     15             1732           377.80666         \n",
       "73 Winter   0    165.17778     42              342            63.81163         \n",
       "74 Winter   1    159.05556     43              337            65.84247         \n",
       "75 Winter   2    117.78889     38              312            54.94533         \n",
       "76 Winter   3     77.81111     21              230            37.68256         \n",
       "77 Winter   4     50.47778     20              120            19.05561         \n",
       "78 Winter   5     51.22222     13              100            18.98759         \n",
       "79 Winter   6     92.82222      9              200            45.48372         \n",
       "80 Winter   7    209.56667      3              498           125.47121         \n",
       "81 Winter   8    422.20000      4              937           253.13778         \n",
       "82 Winter   9    254.60000      3              509           111.70276         \n",
       "83 Winter  10    186.40000      4              339            67.98150         \n",
       "84 Winter  11    228.32222      9              388            78.23964         \n",
       "85 Winter  12    263.63333      4              479            88.68163         \n",
       "86 Winter  13    275.25556      7              606            98.32616         \n",
       "87 Winter  14    284.28889     17              611           105.02394         \n",
       "88 Winter  15    298.64444      7              621           117.54473         \n",
       "89 Winter  16    308.57778      9              688           126.50569         \n",
       "90 Winter  17    342.51111      8              646           131.99514         \n",
       "91 Winter  18    438.30000     11              929           216.66413         \n",
       "92 Winter  19    304.03333     19              619           140.32070         \n",
       "93 Winter  20    243.23333      8              483            96.22694         \n",
       "94 Winter  21    240.50000     10              512            98.08061         \n",
       "95 Winter  22    225.13333     13              461            91.87687         \n",
       "96 Winter  23    173.43333     23              366            67.49684         "
      ]
     },
     "metadata": {},
     "output_type": "display_data"
    }
   ],
   "source": [
    "dbGetQuery(conn, \"\n",
    "SELECT SEASONS,\n",
    "       HOUR,\n",
    "       AVG(RENTED_BIKE_COUNT) AS avg_bike_count,\n",
    "       MIN(RENTED_BIKE_COUNT) AS min_bike_count,\n",
    "       MAX(RENTED_BIKE_COUNT) AS max_bike_count,\n",
    "       SQRT(AVG(RENTED_BIKE_COUNT * RENTED_BIKE_COUNT) - AVG(RENTED_BIKE_COUNT) * AVG(RENTED_BIKE_COUNT)) AS std_dev_bike_count\n",
    "FROM SEOUL_BIKE_SHARING\n",
    "GROUP BY SEASONS, HOUR\n",
    "\")\n"
   ]
  },
  {
   "cell_type": "markdown",
   "metadata": {},
   "source": [
    "Let's explore a bit and see what might be the most significant contributing factors in terms of the provided data.\n"
   ]
  },
  {
   "cell_type": "markdown",
   "metadata": {},
   "source": [
    "## Task 9 - Weather Seasonality\n",
    "#### Consider the weather over each season. On average, what were the TEMPERATURE, HUMIDITY, WIND_SPEED, VISIBILITY, DEW_POINT_TEMPERATURE, SOLAR_RADIATION, RAINFALL, and SNOWFALL per season?\n",
    "Include the average bike count as well , and rank the results by average bike count so you can see if it is correlated with the weather at all. \n"
   ]
  },
  {
   "cell_type": "markdown",
   "metadata": {},
   "source": [
    "### Solution 9\n"
   ]
  },
  {
   "cell_type": "code",
   "execution_count": 19,
   "metadata": {
    "tags": []
   },
   "outputs": [
    {
     "data": {
      "text/html": [
       "<table>\n",
       "<caption>A data.frame: 4 × 10</caption>\n",
       "<thead>\n",
       "\t<tr><th scope=col>SEASONS</th><th scope=col>avg_temperature</th><th scope=col>avg_humidity</th><th scope=col>avg_wind_speed</th><th scope=col>avg_visibility</th><th scope=col>avg_dew_point_temperature</th><th scope=col>avg_solar_radiation</th><th scope=col>avg_rainfall</th><th scope=col>avg_snowfall</th><th scope=col>avg_bike_count</th></tr>\n",
       "\t<tr><th scope=col>&lt;chr&gt;</th><th scope=col>&lt;dbl&gt;</th><th scope=col>&lt;dbl&gt;</th><th scope=col>&lt;dbl&gt;</th><th scope=col>&lt;dbl&gt;</th><th scope=col>&lt;dbl&gt;</th><th scope=col>&lt;dbl&gt;</th><th scope=col>&lt;dbl&gt;</th><th scope=col>&lt;dbl&gt;</th><th scope=col>&lt;dbl&gt;</th></tr>\n",
       "</thead>\n",
       "<tbody>\n",
       "\t<tr><td>Summer</td><td>26.587711</td><td>64.98143</td><td>1.609420</td><td>1501.745</td><td> 18.750136</td><td>0.7612545</td><td>0.25348732</td><td>0.00000000</td><td>1034.0734</td></tr>\n",
       "\t<tr><td>Autumn</td><td>13.821580</td><td>59.04491</td><td>1.492101</td><td>1558.174</td><td>  5.150594</td><td>0.5227827</td><td>0.11765617</td><td>0.06350026</td><td> 924.1105</td></tr>\n",
       "\t<tr><td>Spring</td><td>13.021685</td><td>58.75833</td><td>1.857778</td><td>1240.912</td><td>  4.091389</td><td>0.6803009</td><td>0.18694444</td><td>0.00000000</td><td> 746.2542</td></tr>\n",
       "\t<tr><td>Winter</td><td>-2.540463</td><td>49.74491</td><td>1.922685</td><td>1445.987</td><td>-12.416667</td><td>0.2981806</td><td>0.03282407</td><td>0.24750000</td><td> 225.5412</td></tr>\n",
       "</tbody>\n",
       "</table>\n"
      ],
      "text/latex": [
       "A data.frame: 4 × 10\n",
       "\\begin{tabular}{llllllllll}\n",
       " SEASONS & avg\\_temperature & avg\\_humidity & avg\\_wind\\_speed & avg\\_visibility & avg\\_dew\\_point\\_temperature & avg\\_solar\\_radiation & avg\\_rainfall & avg\\_snowfall & avg\\_bike\\_count\\\\\n",
       " <chr> & <dbl> & <dbl> & <dbl> & <dbl> & <dbl> & <dbl> & <dbl> & <dbl> & <dbl>\\\\\n",
       "\\hline\n",
       "\t Summer & 26.587711 & 64.98143 & 1.609420 & 1501.745 &  18.750136 & 0.7612545 & 0.25348732 & 0.00000000 & 1034.0734\\\\\n",
       "\t Autumn & 13.821580 & 59.04491 & 1.492101 & 1558.174 &   5.150594 & 0.5227827 & 0.11765617 & 0.06350026 &  924.1105\\\\\n",
       "\t Spring & 13.021685 & 58.75833 & 1.857778 & 1240.912 &   4.091389 & 0.6803009 & 0.18694444 & 0.00000000 &  746.2542\\\\\n",
       "\t Winter & -2.540463 & 49.74491 & 1.922685 & 1445.987 & -12.416667 & 0.2981806 & 0.03282407 & 0.24750000 &  225.5412\\\\\n",
       "\\end{tabular}\n"
      ],
      "text/markdown": [
       "\n",
       "A data.frame: 4 × 10\n",
       "\n",
       "| SEASONS &lt;chr&gt; | avg_temperature &lt;dbl&gt; | avg_humidity &lt;dbl&gt; | avg_wind_speed &lt;dbl&gt; | avg_visibility &lt;dbl&gt; | avg_dew_point_temperature &lt;dbl&gt; | avg_solar_radiation &lt;dbl&gt; | avg_rainfall &lt;dbl&gt; | avg_snowfall &lt;dbl&gt; | avg_bike_count &lt;dbl&gt; |\n",
       "|---|---|---|---|---|---|---|---|---|---|\n",
       "| Summer | 26.587711 | 64.98143 | 1.609420 | 1501.745 |  18.750136 | 0.7612545 | 0.25348732 | 0.00000000 | 1034.0734 |\n",
       "| Autumn | 13.821580 | 59.04491 | 1.492101 | 1558.174 |   5.150594 | 0.5227827 | 0.11765617 | 0.06350026 |  924.1105 |\n",
       "| Spring | 13.021685 | 58.75833 | 1.857778 | 1240.912 |   4.091389 | 0.6803009 | 0.18694444 | 0.00000000 |  746.2542 |\n",
       "| Winter | -2.540463 | 49.74491 | 1.922685 | 1445.987 | -12.416667 | 0.2981806 | 0.03282407 | 0.24750000 |  225.5412 |\n",
       "\n"
      ],
      "text/plain": [
       "  SEASONS avg_temperature avg_humidity avg_wind_speed avg_visibility\n",
       "1 Summer  26.587711       64.98143     1.609420       1501.745      \n",
       "2 Autumn  13.821580       59.04491     1.492101       1558.174      \n",
       "3 Spring  13.021685       58.75833     1.857778       1240.912      \n",
       "4 Winter  -2.540463       49.74491     1.922685       1445.987      \n",
       "  avg_dew_point_temperature avg_solar_radiation avg_rainfall avg_snowfall\n",
       "1  18.750136                0.7612545           0.25348732   0.00000000  \n",
       "2   5.150594                0.5227827           0.11765617   0.06350026  \n",
       "3   4.091389                0.6803009           0.18694444   0.00000000  \n",
       "4 -12.416667                0.2981806           0.03282407   0.24750000  \n",
       "  avg_bike_count\n",
       "1 1034.0734     \n",
       "2  924.1105     \n",
       "3  746.2542     \n",
       "4  225.5412     "
      ]
     },
     "metadata": {},
     "output_type": "display_data"
    }
   ],
   "source": [
    "dbGetQuery(conn, \"\n",
    "SELECT SEASONS,\n",
    "       AVG(TEMPERATURE) AS avg_temperature,\n",
    "       AVG(HUMIDITY) AS avg_humidity,\n",
    "       AVG(WIND_SPEED) AS avg_wind_speed,\n",
    "       AVG(VISIBILITY) AS avg_visibility,\n",
    "       AVG(DEW_POINT_TEMPERATURE) AS avg_dew_point_temperature,\n",
    "       AVG(SOLAR_RADIATION) AS avg_solar_radiation,\n",
    "       AVG(RAINFALL) AS avg_rainfall,\n",
    "       AVG(SNOWFALL) AS avg_snowfall,\n",
    "       AVG(RENTED_BIKE_COUNT) AS avg_bike_count\n",
    "FROM SEOUL_BIKE_SHARING\n",
    "GROUP BY SEASONS\n",
    "ORDER BY avg_bike_count DESC\n",
    "\")"
   ]
  },
  {
   "cell_type": "markdown",
   "metadata": {},
   "source": [
    "## Task 10 - Total Bike Count and City Info for Seoul\n",
    "#### Use an implicit join across the WORLD_CITIES and the BIKE_SHARING_SYSTEMS tables to determine the total number of bikes avaialble in Seoul, plus the following city information about Seoul: CITY, COUNTRY, LAT, LON, POPULATION, in a single view.\n",
    "Notice that in this case, the CITY column will work for the WORLD_CITIES table, but in general you would have to use the CITY_ASCII column.\n"
   ]
  },
  {
   "cell_type": "markdown",
   "metadata": {},
   "source": [
    "### Solution 10\n"
   ]
  },
  {
   "cell_type": "code",
   "execution_count": 20,
   "metadata": {
    "tags": []
   },
   "outputs": [
    {
     "data": {
      "text/html": [
       "<table>\n",
       "<caption>A data.frame: 1 × 6</caption>\n",
       "<thead>\n",
       "\t<tr><th scope=col>CITY</th><th scope=col>COUNTRY</th><th scope=col>LAT</th><th scope=col>LNG</th><th scope=col>POPULATION</th><th scope=col>total_bike_count</th></tr>\n",
       "\t<tr><th scope=col>&lt;chr&gt;</th><th scope=col>&lt;chr&gt;</th><th scope=col>&lt;dbl&gt;</th><th scope=col>&lt;dbl&gt;</th><th scope=col>&lt;dbl&gt;</th><th scope=col>&lt;dbl&gt;</th></tr>\n",
       "</thead>\n",
       "<tbody>\n",
       "\t<tr><td>Seoul</td><td>Korea, South</td><td>37.5833</td><td>127</td><td>21794000</td><td>20000</td></tr>\n",
       "</tbody>\n",
       "</table>\n"
      ],
      "text/latex": [
       "A data.frame: 1 × 6\n",
       "\\begin{tabular}{llllll}\n",
       " CITY & COUNTRY & LAT & LNG & POPULATION & total\\_bike\\_count\\\\\n",
       " <chr> & <chr> & <dbl> & <dbl> & <dbl> & <dbl>\\\\\n",
       "\\hline\n",
       "\t Seoul & Korea, South & 37.5833 & 127 & 21794000 & 20000\\\\\n",
       "\\end{tabular}\n"
      ],
      "text/markdown": [
       "\n",
       "A data.frame: 1 × 6\n",
       "\n",
       "| CITY &lt;chr&gt; | COUNTRY &lt;chr&gt; | LAT &lt;dbl&gt; | LNG &lt;dbl&gt; | POPULATION &lt;dbl&gt; | total_bike_count &lt;dbl&gt; |\n",
       "|---|---|---|---|---|---|\n",
       "| Seoul | Korea, South | 37.5833 | 127 | 21794000 | 20000 |\n",
       "\n"
      ],
      "text/plain": [
       "  CITY  COUNTRY      LAT     LNG POPULATION total_bike_count\n",
       "1 Seoul Korea, South 37.5833 127 21794000   20000           "
      ]
     },
     "metadata": {},
     "output_type": "display_data"
    }
   ],
   "source": [
    "dbGetQuery(conn, \"\n",
    "SELECT WC.CITY, \n",
    "       WC.COUNTRY, \n",
    "       WC.LAT, \n",
    "       WC.LNG, \n",
    "       WC.POPULATION, \n",
    "       SUM(BS.BICYCLES) AS total_bike_count\n",
    "FROM WORLD_CITIES AS WC\n",
    "JOIN BIKE_SHARING_SYSTEMS AS BS ON WC.CITY = BS.CITY\n",
    "WHERE WC.CITY = 'Seoul'\n",
    "GROUP BY WC.CITY, WC.COUNTRY, WC.LAT, WC.LNG, WC.POPULATION\n",
    "\")"
   ]
  },
  {
   "cell_type": "markdown",
   "metadata": {},
   "source": [
    "## Task 11 - Find all city names and coordinates with comparable bike scale to Seoul's bike sharing system\n",
    "#### Find all cities with total bike counts between 15000 and 20000. Return the city and country names, plus the coordinates (LAT, LNG), population, and number of bicycles for each city.\n",
    "Later we will ask you to visualize these similar cities on leaflet, with some weather data.\n"
   ]
  },
  {
   "cell_type": "markdown",
   "metadata": {},
   "source": [
    "### Solution 11\n"
   ]
  },
  {
   "cell_type": "code",
   "execution_count": 21,
   "metadata": {
    "tags": []
   },
   "outputs": [
    {
     "data": {
      "text/html": [
       "<table>\n",
       "<caption>A data.frame: 6 × 6</caption>\n",
       "<thead>\n",
       "\t<tr><th scope=col>CITY</th><th scope=col>COUNTRY</th><th scope=col>LAT</th><th scope=col>LNG</th><th scope=col>POPULATION</th><th scope=col>bike_count</th></tr>\n",
       "\t<tr><th scope=col>&lt;chr&gt;</th><th scope=col>&lt;chr&gt;</th><th scope=col>&lt;dbl&gt;</th><th scope=col>&lt;dbl&gt;</th><th scope=col>&lt;dbl&gt;</th><th scope=col>&lt;dbl&gt;</th></tr>\n",
       "</thead>\n",
       "<tbody>\n",
       "\t<tr><td>Beijing </td><td>China       </td><td>39.9050</td><td>116.3914</td><td>19433000</td><td>16000</td></tr>\n",
       "\t<tr><td>Ningbo  </td><td>China       </td><td>29.8750</td><td>121.5492</td><td> 7639000</td><td>15000</td></tr>\n",
       "\t<tr><td>Shanghai</td><td>China       </td><td>31.1667</td><td>121.4667</td><td>22120000</td><td>19165</td></tr>\n",
       "\t<tr><td>Weifang </td><td>China       </td><td>36.7167</td><td>119.1000</td><td> 9373000</td><td>20000</td></tr>\n",
       "\t<tr><td>Zhuzhou </td><td>China       </td><td>27.8407</td><td>113.1469</td><td> 3855609</td><td>20000</td></tr>\n",
       "\t<tr><td>Seoul   </td><td>Korea, South</td><td>37.5833</td><td>127.0000</td><td>21794000</td><td>20000</td></tr>\n",
       "</tbody>\n",
       "</table>\n"
      ],
      "text/latex": [
       "A data.frame: 6 × 6\n",
       "\\begin{tabular}{llllll}\n",
       " CITY & COUNTRY & LAT & LNG & POPULATION & bike\\_count\\\\\n",
       " <chr> & <chr> & <dbl> & <dbl> & <dbl> & <dbl>\\\\\n",
       "\\hline\n",
       "\t Beijing  & China        & 39.9050 & 116.3914 & 19433000 & 16000\\\\\n",
       "\t Ningbo   & China        & 29.8750 & 121.5492 &  7639000 & 15000\\\\\n",
       "\t Shanghai & China        & 31.1667 & 121.4667 & 22120000 & 19165\\\\\n",
       "\t Weifang  & China        & 36.7167 & 119.1000 &  9373000 & 20000\\\\\n",
       "\t Zhuzhou  & China        & 27.8407 & 113.1469 &  3855609 & 20000\\\\\n",
       "\t Seoul    & Korea, South & 37.5833 & 127.0000 & 21794000 & 20000\\\\\n",
       "\\end{tabular}\n"
      ],
      "text/markdown": [
       "\n",
       "A data.frame: 6 × 6\n",
       "\n",
       "| CITY &lt;chr&gt; | COUNTRY &lt;chr&gt; | LAT &lt;dbl&gt; | LNG &lt;dbl&gt; | POPULATION &lt;dbl&gt; | bike_count &lt;dbl&gt; |\n",
       "|---|---|---|---|---|---|\n",
       "| Beijing  | China        | 39.9050 | 116.3914 | 19433000 | 16000 |\n",
       "| Ningbo   | China        | 29.8750 | 121.5492 |  7639000 | 15000 |\n",
       "| Shanghai | China        | 31.1667 | 121.4667 | 22120000 | 19165 |\n",
       "| Weifang  | China        | 36.7167 | 119.1000 |  9373000 | 20000 |\n",
       "| Zhuzhou  | China        | 27.8407 | 113.1469 |  3855609 | 20000 |\n",
       "| Seoul    | Korea, South | 37.5833 | 127.0000 | 21794000 | 20000 |\n",
       "\n"
      ],
      "text/plain": [
       "  CITY     COUNTRY      LAT     LNG      POPULATION bike_count\n",
       "1 Beijing  China        39.9050 116.3914 19433000   16000     \n",
       "2 Ningbo   China        29.8750 121.5492  7639000   15000     \n",
       "3 Shanghai China        31.1667 121.4667 22120000   19165     \n",
       "4 Weifang  China        36.7167 119.1000  9373000   20000     \n",
       "5 Zhuzhou  China        27.8407 113.1469  3855609   20000     \n",
       "6 Seoul    Korea, South 37.5833 127.0000 21794000   20000     "
      ]
     },
     "metadata": {},
     "output_type": "display_data"
    }
   ],
   "source": [
    "dbGetQuery(conn, \"\n",
    "SELECT WC.CITY,\n",
    "       WC.COUNTRY,\n",
    "       WC.LAT,\n",
    "       WC.LNG,\n",
    "       WC.POPULATION,\n",
    "       BS.BICYCLES AS bike_count\n",
    "FROM WORLD_CITIES AS WC\n",
    "JOIN BIKE_SHARING_SYSTEMS AS BS ON WC.CITY = BS.CITY\n",
    "WHERE BS.BICYCLES BETWEEN 15000 AND 20000\n",
    "\")"
   ]
  },
  {
   "cell_type": "code",
   "execution_count": 22,
   "metadata": {
    "tags": []
   },
   "outputs": [],
   "source": [
    "dbDisconnect(conn)"
   ]
  },
  {
   "cell_type": "markdown",
   "metadata": {},
   "source": [
    "## Author(s)\n",
    "\n",
    "<h4> Jeff Grossman </h4>\n",
    "<h4> Lakshmi Holla </h4>\n",
    "\n",
    "\n",
    "## Other Contributor(s)\n",
    "\n",
    "<h4>  Malika Singla </h4>\n",
    "\n",
    "## Change log\n",
    "\n",
    "| Date (YYYY-MM-DD) | Version | Changed By | Change Description                 |\n",
    "| ----------------- | ------- | ---------- | ---------------------------------- |\n",
    "| 2022-03-03        | 1.0     |Lakshmi Holla  | Created lab using sqlite3          |\n",
    "\n",
    "## <h3 align=\"center\"> © IBM Corporation 2022. All rights reserved. <h3/>\n"
   ]
  }
 ],
 "metadata": {
  "kernelspec": {
   "display_name": "R",
   "language": "R",
   "name": "conda-env-r-r"
  },
  "language_info": {
   "codemirror_mode": "r",
   "file_extension": ".r",
   "mimetype": "text/x-r-source",
   "name": "R",
   "pygments_lexer": "r",
   "version": "3.5.1"
  }
 },
 "nbformat": 4,
 "nbformat_minor": 4
}
