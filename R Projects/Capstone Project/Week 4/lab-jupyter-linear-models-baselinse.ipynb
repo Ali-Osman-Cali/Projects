{
 "cells": [
  {
   "cell_type": "markdown",
   "metadata": {},
   "source": [
    "<center>\n",
    "<img src=\"https://cf-courses-data.s3.us.cloud-object-storage.appdomain.cloud/IBMDeveloperSkillsNetwork-RP0321EN-SkillsNetwork/labs/module_1/images/SN_web_lightmode.png\" width=\"300\"> \n",
    "</center>\n"
   ]
  },
  {
   "cell_type": "markdown",
   "metadata": {},
   "source": [
    "<h1>Predict Hourly Rented Bike Count using Basic Linear Regression Models</h1>\n",
    "\n",
    "Estimated time needed: **90** minutes\n"
   ]
  },
  {
   "cell_type": "markdown",
   "metadata": {},
   "source": [
    "## Lab Overview:\n",
    "\n",
    "Now that you have performed exploratory analysis on the bike sharing demand dataset and obtained some insights on the attributes, it's time to build predictive models to predict the hourly rented bike count using related weather and date information.\n",
    "\n",
    "In this lab, you will be asked to use `tidymodels` to build some baseline linear regression models:\n",
    "- **TASK: Split data into training and testing datasets**\n",
    "- **TASK: Build a linear regression model using only the weather variables**\n",
    "- **TASK: Build a linear regression model using both weather and date variables**\n",
    "- **TASK: Evaluate the models and identify important variables**\n",
    "\n",
    "Let's start!\n"
   ]
  },
  {
   "cell_type": "markdown",
   "metadata": {},
   "source": [
    "The tidyverse and the tidymodels packages can be used to produce high quality statistical and machine learning models. The Tidyverse library is a useful tool that provides various tools for data visualization, data manipulation, and read various datasets into a data frame; our Jupyter notebook platforms have a built-in Tidymodels, Tidyverse and rlang libraries, so we do not need to install these packages prior to loading library. However, if you decide to run this lab on your RStudio Desktop locally on your machine, you can remove the commented lines of code to install these packages before loading.\n"
   ]
  },
  {
   "cell_type": "code",
   "execution_count": null,
   "metadata": {},
   "outputs": [],
   "source": [
    "# It may take several minutes to install those libraries in Watson Studio\n",
    "# install.packages(\"rlang\")\n",
    "# install.packages(\"tidymodels\")"
   ]
  },
  {
   "cell_type": "code",
   "execution_count": 1,
   "metadata": {
    "tags": []
   },
   "outputs": [
    {
     "name": "stderr",
     "output_type": "stream",
     "text": [
      "── Attaching packages ────────────────────────────────────── tidymodels 0.1.0 ──\n",
      "✔ broom     0.5.6      ✔ recipes   0.1.12\n",
      "✔ dials     0.0.6      ✔ rsample   0.0.5 \n",
      "✔ dplyr     0.8.5      ✔ tibble    3.0.1 \n",
      "✔ ggplot2   3.3.0      ✔ tune      0.1.0 \n",
      "✔ infer     0.5.1      ✔ workflows 0.1.1 \n",
      "✔ parsnip   0.1.0      ✔ yardstick 0.0.6 \n",
      "✔ purrr     0.3.4      \n",
      "── Conflicts ───────────────────────────────────────── tidymodels_conflicts() ──\n",
      "✖ purrr::discard()  masks scales::discard()\n",
      "✖ dplyr::filter()   masks stats::filter()\n",
      "✖ dplyr::lag()      masks stats::lag()\n",
      "✖ ggplot2::margin() masks dials::margin()\n",
      "✖ recipes::step()   masks stats::step()\n",
      "── Attaching packages ─────────────────────────────────────── tidyverse 1.3.0 ──\n",
      "✔ readr   1.3.1     ✔ forcats 0.5.0\n",
      "✔ stringr 1.4.0     \n",
      "── Conflicts ────────────────────────────────────────── tidyverse_conflicts() ──\n",
      "✖ readr::col_factor() masks scales::col_factor()\n",
      "✖ purrr::discard()    masks scales::discard()\n",
      "✖ dplyr::filter()     masks stats::filter()\n",
      "✖ stringr::fixed()    masks recipes::fixed()\n",
      "✖ dplyr::lag()        masks stats::lag()\n",
      "✖ ggplot2::margin()   masks dials::margin()\n",
      "✖ readr::spec()       masks yardstick::spec()\n",
      "Loading required package: Matrix\n",
      "\n",
      "Attaching package: ‘Matrix’\n",
      "\n",
      "The following objects are masked from ‘package:tidyr’:\n",
      "\n",
      "    expand, pack, unpack\n",
      "\n",
      "Loading required package: foreach\n",
      "\n",
      "Attaching package: ‘foreach’\n",
      "\n",
      "The following objects are masked from ‘package:purrr’:\n",
      "\n",
      "    accumulate, when\n",
      "\n",
      "Loaded glmnet 2.0-18\n",
      "\n"
     ]
    }
   ],
   "source": [
    "library(tidymodels)\n",
    "library(tidyverse)\n",
    "library(stringr)\n",
    "library(glmnet)"
   ]
  },
  {
   "cell_type": "markdown",
   "metadata": {},
   "source": [
    "The `seoul_bike_sharing_converted_normalized.csv` will be our main dataset which has following variables:\n",
    "\n",
    "The response variable:\n",
    "- `RENTED BIKE COUNT`- Count of bikes rented at each hour\n",
    "\n",
    "Weather predictor variables:\n",
    "- `TEMPERATURE` - Temperature in Celsius\n",
    "- `HUMIDITY` - Unit is `%`\n",
    "- `WIND_SPEED` - Unit is `m/s`\n",
    "- `VISIBILITY` - Multiplied by 10m\n",
    "- `DEW_POINT_TEMPERATURE` - The temperature to which the air would have to cool down in order to reach saturation, unit is Celsius\n",
    "- `SOLAR_RADIATION` - MJ/m2\n",
    "- `RAINFALL` - mm\n",
    "- `SNOWFALL` - cm\n",
    "\n",
    "Date/time predictor variables:\n",
    "- `DATE` - Year-month-day\n",
    "- `HOUR`- Hour of he day\n",
    "- `FUNCTIONAL DAY` - NoFunc(Non Functional Hours), Fun(Functional hours)\n",
    "- `HOLIDAY` - Holiday/No holiday\n",
    "- `SEASONS` - Winter, Spring, Summer, Autumn\n"
   ]
  },
  {
   "cell_type": "markdown",
   "metadata": {},
   "source": [
    "Let's read the dataset as a dataframe first:\n"
   ]
  },
  {
   "cell_type": "code",
   "execution_count": 2,
   "metadata": {
    "tags": []
   },
   "outputs": [
    {
     "name": "stderr",
     "output_type": "stream",
     "text": [
      "Parsed with column specification:\n",
      "cols(\n",
      "  .default = col_double(),\n",
      "  DATE = col_character(),\n",
      "  FUNCTIONING_DAY = col_character()\n",
      ")\n",
      "See spec(...) for full column specifications.\n"
     ]
    },
    {
     "data": {
      "text/plain": [
       "cols(\n",
       "  DATE = col_character(),\n",
       "  RENTED_BIKE_COUNT = col_double(),\n",
       "  TEMPERATURE = col_double(),\n",
       "  HUMIDITY = col_double(),\n",
       "  WIND_SPEED = col_double(),\n",
       "  VISIBILITY = col_double(),\n",
       "  DEW_POINT_TEMPERATURE = col_double(),\n",
       "  SOLAR_RADIATION = col_double(),\n",
       "  RAINFALL = col_double(),\n",
       "  SNOWFALL = col_double(),\n",
       "  FUNCTIONING_DAY = col_character(),\n",
       "  `0` = col_double(),\n",
       "  `1` = col_double(),\n",
       "  `10` = col_double(),\n",
       "  `11` = col_double(),\n",
       "  `12` = col_double(),\n",
       "  `13` = col_double(),\n",
       "  `14` = col_double(),\n",
       "  `15` = col_double(),\n",
       "  `16` = col_double(),\n",
       "  `17` = col_double(),\n",
       "  `18` = col_double(),\n",
       "  `19` = col_double(),\n",
       "  `2` = col_double(),\n",
       "  `20` = col_double(),\n",
       "  `21` = col_double(),\n",
       "  `22` = col_double(),\n",
       "  `23` = col_double(),\n",
       "  `3` = col_double(),\n",
       "  `4` = col_double(),\n",
       "  `5` = col_double(),\n",
       "  `6` = col_double(),\n",
       "  `7` = col_double(),\n",
       "  `8` = col_double(),\n",
       "  `9` = col_double(),\n",
       "  AUTUMN = col_double(),\n",
       "  SPRING = col_double(),\n",
       "  SUMMER = col_double(),\n",
       "  WINTER = col_double(),\n",
       "  HOLIDAY = col_double(),\n",
       "  NO_HOLIDAY = col_double()\n",
       ")"
      ]
     },
     "metadata": {},
     "output_type": "display_data"
    }
   ],
   "source": [
    "# Dataset URL\n",
    "dataset_url <- \"https://cf-courses-data.s3.us.cloud-object-storage.appdomain.cloud/IBMDeveloperSkillsNetwork-RP0321EN-SkillsNetwork/labs/datasets/seoul_bike_sharing_converted_normalized.csv\"\n",
    "bike_sharing_df <- read_csv(dataset_url)\n",
    "spec(bike_sharing_df)"
   ]
  },
  {
   "cell_type": "markdown",
   "metadata": {},
   "source": [
    "We won't be using the `DATE` column, because 'as is', it basically acts like an data entry index. (However, given more time, we could use the `DATE` colum to create a 'day of week' or 'isWeekend' column, which we might expect has an affect on preferred bike rental times.) We also do not need the `FUNCTIONAL DAY` column because it only has one distinct value remaining (`YES`) after missing value processing.\n"
   ]
  },
  {
   "cell_type": "code",
   "execution_count": 3,
   "metadata": {
    "tags": []
   },
   "outputs": [],
   "source": [
    "bike_sharing_df <- bike_sharing_df %>% \n",
    "  select(-DATE, -FUNCTIONING_DAY)"
   ]
  },
  {
   "cell_type": "markdown",
   "metadata": {},
   "source": [
    "# TASK: Split training and testing data\n"
   ]
  },
  {
   "cell_type": "markdown",
   "metadata": {},
   "source": [
    "First, we need to split the full dataset into training and testing datasets.\n",
    "\n",
    "The training dataset will be used for fitting regression models, and the testing dataset will be used to evaluate the trained models.\n"
   ]
  },
  {
   "cell_type": "markdown",
   "metadata": {},
   "source": [
    "_TODO:_ Use the `initial_split()`, `training()`, and `testing()` functions to generate a training dataset consisting of 75% of the original dataset, and a testing dataset using the remaining 25%. \n"
   ]
  },
  {
   "cell_type": "code",
   "execution_count": 4,
   "metadata": {
    "tags": []
   },
   "outputs": [],
   "source": [
    "# Split the data into training and testing sets\n",
    "set.seed(123) \n",
    "bike_split <- initial_split(bike_sharing_df, prop = 0.75)\n",
    "\n",
    "# Extract the training and testing sets\n",
    "bike_train <- training(bike_split)\n",
    "bike_test <- testing(bike_split)"
   ]
  },
  {
   "cell_type": "markdown",
   "metadata": {},
   "source": [
    "# TASK: Build a linear regression model using weather variables only\n"
   ]
  },
  {
   "cell_type": "markdown",
   "metadata": {},
   "source": [
    "As you could imagine, weather conditions may affect people's bike renting decisions. For example, on a cold and rainy day, you may choose alternate transportation such as a bus or taxi.  While on a nice sunny day, you may want to rent a bike for a short-distance travel.\n"
   ]
  },
  {
   "cell_type": "markdown",
   "metadata": {},
   "source": [
    "Thus, can we predict a city's bike-sharing demand based on its local weather information? Let's try to build a regression model to do that.\n"
   ]
  },
  {
   "cell_type": "markdown",
   "metadata": {},
   "source": [
    "_TODO:_ Build a linear regression model called `lm_model_weather` using the following variables:\n",
    "\n",
    "- `TEMPERATURE` - Temperature in Celsius\n",
    "- `HUMIDITY` - Unit is `%`\n",
    "- `WIND_SPEED` - Unit is `m/s`\n",
    "- `VISIBILITY` - Multiplied by 10m\n",
    "- `DEW_POINT_TEMPERATURE` - The temperature to which the air would have to cool down in order to reach saturation, unit is Celsius\n",
    "- `SOLAR_RADIATION` - MJ/m2\n",
    "- `RAINFALL` - mm\n",
    "- `SNOWFALL` - cm\n"
   ]
  },
  {
   "cell_type": "markdown",
   "metadata": {},
   "source": [
    "Define a linear regression model specification.\n"
   ]
  },
  {
   "cell_type": "code",
   "execution_count": 5,
   "metadata": {
    "tags": []
   },
   "outputs": [],
   "source": [
    "lm_spec_weather <- linear_reg() %>%\n",
    "  set_engine(engine = \"lm\") %>%\n",
    "  set_mode(mode = \"regression\")"
   ]
  },
  {
   "cell_type": "markdown",
   "metadata": {},
   "source": [
    "Fit a model with the response variable `RENTED_BIKE_COUNT` and predictor variables `TEMPERATURE + HUMIDITY + WIND_SPEED + VISIBILITY + DEW_POINT_TEMPERATURE + SOLAR_RADIATION + RAINFALL + SNOWFALL`\n"
   ]
  },
  {
   "cell_type": "code",
   "execution_count": 6,
   "metadata": {
    "tags": []
   },
   "outputs": [],
   "source": [
    "# Fit the model using selected weather variables\n",
    "lm_model_weather <- lm_spec_weather %>%\n",
    "  fit(RENTED_BIKE_COUNT ~ TEMPERATURE + HUMIDITY + WIND_SPEED + VISIBILITY + \n",
    "        DEW_POINT_TEMPERATURE + SOLAR_RADIATION + RAINFALL + SNOWFALL, data = bike_train)"
   ]
  },
  {
   "cell_type": "markdown",
   "metadata": {},
   "source": [
    "Print the fit summary for the `lm_model_weather` model.\n"
   ]
  },
  {
   "cell_type": "code",
   "execution_count": 7,
   "metadata": {
    "tags": []
   },
   "outputs": [
    {
     "data": {
      "text/plain": [
       "\n",
       "Call:\n",
       "stats::lm(formula = formula, data = data)\n",
       "\n",
       "Residuals:\n",
       "     Min       1Q   Median       3Q      Max \n",
       "-1376.78  -294.13   -58.32   211.11  2330.62 \n",
       "\n",
       "Coefficients:\n",
       "                       Estimate Std. Error t value Pr(>|t|)    \n",
       "(Intercept)             194.577     58.448   3.329 0.000876 ***\n",
       "TEMPERATURE            2077.157    265.680   7.818 6.23e-15 ***\n",
       "HUMIDITY              -1046.265    129.041  -8.108 6.12e-16 ***\n",
       "WIND_SPEED              407.545     47.274   8.621  < 2e-16 ***\n",
       "VISIBILITY                7.235     24.405   0.296 0.766906    \n",
       "DEW_POINT_TEMPERATURE    25.450    283.128   0.090 0.928379    \n",
       "SOLAR_RADIATION        -419.085     34.298 -12.219  < 2e-16 ***\n",
       "RAINFALL              -1919.974    197.381  -9.727  < 2e-16 ***\n",
       "SNOWFALL                293.931    126.569   2.322 0.020248 *  \n",
       "---\n",
       "Signif. codes:  0 ‘***’ 0.001 ‘**’ 0.01 ‘*’ 0.05 ‘.’ 0.1 ‘ ’ 1\n",
       "\n",
       "Residual standard error: 481.5 on 6340 degrees of freedom\n",
       "Multiple R-squared:  0.4339,\tAdjusted R-squared:  0.4332 \n",
       "F-statistic: 607.4 on 8 and 6340 DF,  p-value: < 2.2e-16\n"
      ]
     },
     "metadata": {},
     "output_type": "display_data"
    }
   ],
   "source": [
    "summary(lm_model_weather$fit)"
   ]
  },
  {
   "cell_type": "markdown",
   "metadata": {},
   "source": [
    "You should see the model details such as formula, residuals, and coefficients.\n"
   ]
  },
  {
   "cell_type": "markdown",
   "metadata": {},
   "source": [
    "# TASK: Build a linear regression model using all variables\n"
   ]
  },
  {
   "cell_type": "markdown",
   "metadata": {},
   "source": [
    "In addition to weather, there could be other factors that may affect bike rental demand, such as the time of a day or if today is a holiday or not.\n"
   ]
  },
  {
   "cell_type": "markdown",
   "metadata": {},
   "source": [
    "Next, let's build a linear regression model using all variables (weather + date/time) in this task.\n"
   ]
  },
  {
   "cell_type": "markdown",
   "metadata": {},
   "source": [
    "_TODO:_ Build a linear regression model called `lm_model_all` using all variables `RENTED_BIKE_COUNT ~ .`\n"
   ]
  },
  {
   "cell_type": "code",
   "execution_count": 8,
   "metadata": {
    "tags": []
   },
   "outputs": [],
   "source": [
    "# Define linear regression model specification\n",
    "lm_spec_all <- linear_reg() %>%\n",
    "  set_engine(engine = \"lm\") %>%\n",
    "  set_mode(mode = \"regression\")"
   ]
  },
  {
   "cell_type": "code",
   "execution_count": 9,
   "metadata": {
    "tags": []
   },
   "outputs": [],
   "source": [
    "# Fit the model using all variables\n",
    "lm_model_all <- lm_spec_all %>%\n",
    "  fit(RENTED_BIKE_COUNT ~ ., data = bike_train)"
   ]
  },
  {
   "cell_type": "markdown",
   "metadata": {},
   "source": [
    "Print the fit summary for `lm_model_all`.\n"
   ]
  },
  {
   "cell_type": "code",
   "execution_count": 10,
   "metadata": {
    "tags": []
   },
   "outputs": [
    {
     "data": {
      "text/plain": [
       "\n",
       "Call:\n",
       "stats::lm(formula = formula, data = data)\n",
       "\n",
       "Residuals:\n",
       "     Min       1Q   Median       3Q      Max \n",
       "-1382.95  -218.70    -9.27   199.52  1907.21 \n",
       "\n",
       "Coefficients: (3 not defined because of singularities)\n",
       "                       Estimate Std. Error t value Pr(>|t|)    \n",
       "(Intercept)             282.685     51.521   5.487 4.25e-08 ***\n",
       "TEMPERATURE             530.385    215.412   2.462 0.013836 *  \n",
       "HUMIDITY              -1013.367    101.714  -9.963  < 2e-16 ***\n",
       "WIND_SPEED               -7.850     39.850  -0.197 0.843832    \n",
       "VISIBILITY                3.533     19.977   0.177 0.859639    \n",
       "DEW_POINT_TEMPERATURE   864.873    225.308   3.839 0.000125 ***\n",
       "SOLAR_RADIATION         275.233     40.634   6.773 1.37e-11 ***\n",
       "RAINFALL              -2185.765    155.528 -14.054  < 2e-16 ***\n",
       "SNOWFALL                263.369    100.014   2.633 0.008476 ** \n",
       "`0`                     -15.838     34.046  -0.465 0.641805    \n",
       "`1`                    -115.240     33.767  -3.413 0.000647 ***\n",
       "`10`                   -239.534     33.109  -7.235 5.22e-13 ***\n",
       "`11`                   -229.310     33.478  -6.850 8.11e-12 ***\n",
       "`12`                   -197.650     34.048  -5.805 6.75e-09 ***\n",
       "`13`                   -194.939     33.716  -5.782 7.74e-09 ***\n",
       "`14`                   -193.324     34.424  -5.616 2.04e-08 ***\n",
       "`15`                    -94.824     33.712  -2.813 0.004927 ** \n",
       "`16`                     52.136     33.782   1.543 0.122801    \n",
       "`17`                    298.625     33.787   8.838  < 2e-16 ***\n",
       "`18`                    764.487     33.990  22.491  < 2e-16 ***\n",
       "`19`                    506.470     34.273  14.778  < 2e-16 ***\n",
       "`2`                    -237.245     33.226  -7.140 1.04e-12 ***\n",
       "`20`                    433.836     33.850  12.816  < 2e-16 ***\n",
       "`21`                    430.929     34.142  12.622  < 2e-16 ***\n",
       "`22`                    330.882     33.860   9.772  < 2e-16 ***\n",
       "`23`                    100.751     33.661   2.993 0.002772 ** \n",
       "`3`                    -328.715     33.682  -9.759  < 2e-16 ***\n",
       "`4`                    -386.517     33.287 -11.612  < 2e-16 ***\n",
       "`5`                    -372.732     33.579 -11.100  < 2e-16 ***\n",
       "`6`                    -210.482     33.437  -6.295 3.28e-10 ***\n",
       "`7`                     102.637     33.111   3.100 0.001945 ** \n",
       "`8`                     473.506     33.040  14.331  < 2e-16 ***\n",
       "`9`                          NA         NA      NA       NA    \n",
       "AUTUMN                  352.364     19.984  17.632  < 2e-16 ***\n",
       "SPRING                  199.234     19.198  10.378  < 2e-16 ***\n",
       "SUMMER                  207.892     28.898   7.194 7.02e-13 ***\n",
       "WINTER                       NA         NA      NA       NA    \n",
       "HOLIDAY                -120.362     21.850  -5.508 3.76e-08 ***\n",
       "NO_HOLIDAY                   NA         NA      NA       NA    \n",
       "---\n",
       "Signif. codes:  0 ‘***’ 0.001 ‘**’ 0.01 ‘*’ 0.05 ‘.’ 0.1 ‘ ’ 1\n",
       "\n",
       "Residual standard error: 374.9 on 6313 degrees of freedom\n",
       "Multiple R-squared:  0.6582,\tAdjusted R-squared:  0.6563 \n",
       "F-statistic: 347.4 on 35 and 6313 DF,  p-value: < 2.2e-16\n"
      ]
     },
     "metadata": {},
     "output_type": "display_data"
    }
   ],
   "source": [
    "summary(lm_model_all$fit)"
   ]
  },
  {
   "cell_type": "markdown",
   "metadata": {},
   "source": [
    "Now you have built two basic linear regression models with different predictor variables, let's evaluate which model has better performance,\n"
   ]
  },
  {
   "cell_type": "markdown",
   "metadata": {},
   "source": [
    "# TASK: Model evaluation and identification of important variables\n"
   ]
  },
  {
   "cell_type": "markdown",
   "metadata": {},
   "source": [
    "Now that you have built two regression models, `lm_model_weather` and `lm_model_all`, with different predictor variables, you need to compare their performance to see which one is better.\n"
   ]
  },
  {
   "cell_type": "markdown",
   "metadata": {},
   "source": [
    "In this project, you will be asked to use very important metrics that are often used in Statistics to determine the performance of a model:\n",
    "\n",
    "1.  R^2 / R-squared \n",
    "2.  Root Mean Squared Error (RMSE)\n",
    "\n",
    "**R-squared**\n",
    "\n",
    "<p>R squared, also known as the coefficient of determination, is a measure to indicate how close the data is to the fitted regression line. The value of R-squared is the percentage of variation of the response variable (y) that is explained by a linear model.</p>\n",
    "\n",
    "**Root Mean Squared Error (RMSE)**\n",
    "$$\n",
    "RMSE = \\sqrt{MSE}\n",
    "$$\n",
    "\n",
    "As you know, the Mean Squared Error measures the average of the squares of errors, where 'error' is the difference between the actual value ($y$) and the estimated value ($ŷ$). \n",
    "Another metric that is related to MSE is **Root Mean Squared Error (RMSE)** and is simply the square root of MSE.\n"
   ]
  },
  {
   "cell_type": "markdown",
   "metadata": {},
   "source": [
    "We first need to test the `lm_model_weather` and `lm_model_all` models against the test dataset `test_data`, and generate `RENTED_BIKE_COUNT` prediction results.\n"
   ]
  },
  {
   "cell_type": "markdown",
   "metadata": {},
   "source": [
    "_TODO:_ Make predictions on the testing dataset using both `lm_model_weather` and `lm_model_all` models\n"
   ]
  },
  {
   "cell_type": "code",
   "execution_count": 11,
   "metadata": {
    "tags": []
   },
   "outputs": [
    {
     "name": "stderr",
     "output_type": "stream",
     "text": [
      "Warning message in predict.lm(object = object$fit, newdata = new_data, type = \"response\"):\n",
      "“prediction from a rank-deficient fit may be misleading”"
     ]
    }
   ],
   "source": [
    "test_results_weather <- predict(lm_model_weather, new_data = bike_test)\n",
    "test_results_all <- predict(lm_model_all, new_data = bike_test)"
   ]
  },
  {
   "cell_type": "markdown",
   "metadata": {},
   "source": [
    "NOTE: if you happen to see a warning like : `prediction from a rank-deficient fit may be misleading`, it may be casued by collinearity in the predictor variables. Collinearity means that one predictor variable can be predicted from other predictor variables to some degree. For example, `RAINFALL` could be predicted by `HUMIDITY`.\n",
    "\n",
    "But dont worry, you will address `glmnet` models (Lasso and Elastic-Net Regularized Generalized Linear Models) instead of regular `regression` models to solve this issue and futher improve the model performance.\n"
   ]
  },
  {
   "cell_type": "markdown",
   "metadata": {},
   "source": [
    "Next, let's calculate and print the R-squared and RMSE for the two test results\n"
   ]
  },
  {
   "cell_type": "markdown",
   "metadata": {},
   "source": [
    "_TODO:_ Use `rsq()` and `rmse()` functions to calculate R-squared and RMSE metrics for the two test results\n"
   ]
  },
  {
   "cell_type": "code",
   "execution_count": 12,
   "metadata": {
    "tags": []
   },
   "outputs": [
    {
     "name": "stdout",
     "output_type": "stream",
     "text": [
      "# A tibble: 1 x 3\n",
      "  .metric .estimator .estimate\n",
      "  <chr>   <chr>          <dbl>\n",
      "1 rsq     standard       0.434\n",
      "# A tibble: 1 x 3\n",
      "  .metric .estimator .estimate\n",
      "  <chr>   <chr>          <dbl>\n",
      "1 rsq     standard       0.429\n",
      "# A tibble: 1 x 3\n",
      "  .metric .estimator .estimate\n",
      "  <chr>   <chr>          <dbl>\n",
      "1 rmse    standard        481.\n",
      "# A tibble: 1 x 3\n",
      "  .metric .estimator .estimate\n",
      "  <chr>   <chr>          <dbl>\n",
      "1 rmse    standard        492.\n"
     ]
    }
   ],
   "source": [
    "# Define model properties for the Lasso model\n",
    "lasso_spec <- linear_reg(penalty = 0.1, mixture = 1) %>% \n",
    "  set_engine(\"glmnet\")\n",
    "\n",
    "# Fitting the model to training data\n",
    "lasso_fit <- lasso_spec %>% \n",
    "  fit(RENTED_BIKE_COUNT ~ ., data = bike_train)\n",
    "\n",
    "# Define model properties for the Elastic-Net model\n",
    "elastic_net_spec <- linear_reg(penalty = 0.1, mixture = 0.5) %>% \n",
    "  set_engine(\"glmnet\")\n",
    "\n",
    "# Fitting the model to training data\n",
    "elastic_net_fit <- elastic_net_spec %>% \n",
    "  fit(RENTED_BIKE_COUNT ~ ., data = bike_train)\n",
    "\n",
    "# Making predictions for the Lasso model\n",
    "lasso_preds <- predict(lasso_fit, new_data = bike_test)\n",
    "\n",
    "# Make predictions for the Elastic-Net model\n",
    "elastic_net_preds <- predict(elastic_net_fit, new_data = bike_test)\n",
    "\n",
    "\n",
    "# Perform predictions on training and test data\n",
    "train_results <- lm_model_weather %>%\n",
    "  predict(new_data = bike_train) %>%\n",
    "  mutate(truth = bike_train$RENTED_BIKE_COUNT)\n",
    "\n",
    "test_results <- lm_model_weather %>%\n",
    "  predict(new_data = bike_test) %>%\n",
    "  mutate(truth = bike_test$RENTED_BIKE_COUNT)\n",
    "\n",
    "# Calculate R-squared \n",
    "rsq_train <- rsq(train_results, truth = truth,\n",
    "    estimate = .pred)\n",
    "rsq_test <- rsq(test_results, truth = truth,\n",
    "    estimate = .pred)\n",
    "\n",
    "# Calculate RMSE\n",
    "rmse_train <- rmse(train_results, truth = truth,\n",
    "     estimate = .pred)\n",
    "rmse_test <- rmse(test_results, truth = truth,\n",
    "     estimate = .pred)\n",
    "\n",
    "print(rsq_train)\n",
    "print(rsq_test)\n",
    "print(rmse_train)\n",
    "print(rmse_test)"
   ]
  },
  {
   "cell_type": "markdown",
   "metadata": {},
   "source": [
    "From these tables, you should find that the test results from `lm_model_all` are much better. It means that using both weather and datetime variables in the model generates better prediction results.\n"
   ]
  },
  {
   "cell_type": "markdown",
   "metadata": {},
   "source": [
    "Since `lm_model_all` has many predictor variables, let's check which predictor variables have larger coefficients. Variables with larger coefficients in the model means they attribute more in the prediction of `RENTED_BIKE_COUNT`. In addition, since all predictor variables are normalized to the same scale, 0 to 1, we thus can compare their coefficients directly.\n"
   ]
  },
  {
   "cell_type": "markdown",
   "metadata": {},
   "source": [
    "You could try building another regression model using the non-normalized `seoul_bike_sharing_converted.csv` dataset, and you would find that the coefficients are much different.\n"
   ]
  },
  {
   "cell_type": "markdown",
   "metadata": {},
   "source": [
    "First let's print all coefficients:\n"
   ]
  },
  {
   "cell_type": "code",
   "execution_count": 14,
   "metadata": {
    "tags": []
   },
   "outputs": [
    {
     "data": {
      "text/html": [
       "<style>\n",
       ".dl-inline {width: auto; margin:0; padding: 0}\n",
       ".dl-inline>dt, .dl-inline>dd {float: none; width: auto; display: inline-block}\n",
       ".dl-inline>dt::after {content: \":\\0020\"; padding-right: .5ex}\n",
       ".dl-inline>dt:not(:first-of-type) {padding-left: .5ex}\n",
       "</style><dl class=dl-inline><dt>(Intercept)</dt><dd>284.292757511308</dd><dt>TEMPERATURE</dt><dd>475.748159551769</dd><dt>HUMIDITY</dt><dd>-1064.65687724021</dd><dt>WIND_SPEED</dt><dd>-19.4296277600504</dd><dt>VISIBILITY</dt><dd>15.344073483991</dd><dt>DEW_POINT_TEMPERATURE</dt><dd>969.810774420793</dd><dt>SOLAR_RADIATION</dt><dd>274.380902890348</dd><dt>RAINFALL</dt><dd>-2202.31652068903</dd><dt>SNOWFALL</dt><dd>225.492634529742</dd><dt>`0`</dt><dd>-28.6316960272095</dd><dt>`1`</dt><dd>-128.215834077216</dd><dt>`10`</dt><dd>-232.074073144237</dd><dt>`11`</dt><dd>-251.993176285434</dd><dt>`12`</dt><dd>-213.449136724664</dd><dt>`13`</dt><dd>-187.440801795726</dd><dt>`14`</dt><dd>-192.117722210196</dd><dt>`15`</dt><dd>-98.6927483711228</dd><dt>`16`</dt><dd>18.0635972509368</dd><dt>`17`</dt><dd>287.987038459617</dd><dt>`18`</dt><dd>779.282575798856</dd><dt>`19`</dt><dd>484.092517565676</dd><dt>`2`</dt><dd>-234.0792884435</dd><dt>`20`</dt><dd>404.890472351517</dd><dt>`21`</dt><dd>401.315626244883</dd><dt>`22`</dt><dd>320.452294162784</dd><dt>`23`</dt><dd>97.2748506452224</dd><dt>`3`</dt><dd>-321.441762080491</dd><dt>`4`</dt><dd>-388.01766977412</dd><dt>`5`</dt><dd>-385.99375312715</dd><dt>`6`</dt><dd>-214.186525635494</dd><dt>`7`</dt><dd>111.489415516656</dd><dt>`8`</dt><dd>467.023202385931</dd><dt>`9`</dt><dd>&lt;NA&gt;</dd><dt>AUTUMN</dt><dd>351.62362329641</dd><dt>SPRING</dt><dd>199.072807368548</dd><dt>SUMMER</dt><dd>189.208099737341</dd><dt>WINTER</dt><dd>&lt;NA&gt;</dd><dt>HOLIDAY</dt><dd>-108.115653645526</dd><dt>NO_HOLIDAY</dt><dd>&lt;NA&gt;</dd></dl>\n"
      ],
      "text/latex": [
       "\\begin{description*}\n",
       "\\item[(Intercept)] 284.292757511308\n",
       "\\item[TEMPERATURE] 475.748159551769\n",
       "\\item[HUMIDITY] -1064.65687724021\n",
       "\\item[WIND\\textbackslash{}\\_SPEED] -19.4296277600504\n",
       "\\item[VISIBILITY] 15.344073483991\n",
       "\\item[DEW\\textbackslash{}\\_POINT\\textbackslash{}\\_TEMPERATURE] 969.810774420793\n",
       "\\item[SOLAR\\textbackslash{}\\_RADIATION] 274.380902890348\n",
       "\\item[RAINFALL] -2202.31652068903\n",
       "\\item[SNOWFALL] 225.492634529742\n",
       "\\item[`0`] -28.6316960272095\n",
       "\\item[`1`] -128.215834077216\n",
       "\\item[`10`] -232.074073144237\n",
       "\\item[`11`] -251.993176285434\n",
       "\\item[`12`] -213.449136724664\n",
       "\\item[`13`] -187.440801795726\n",
       "\\item[`14`] -192.117722210196\n",
       "\\item[`15`] -98.6927483711228\n",
       "\\item[`16`] 18.0635972509368\n",
       "\\item[`17`] 287.987038459617\n",
       "\\item[`18`] 779.282575798856\n",
       "\\item[`19`] 484.092517565676\n",
       "\\item[`2`] -234.0792884435\n",
       "\\item[`20`] 404.890472351517\n",
       "\\item[`21`] 401.315626244883\n",
       "\\item[`22`] 320.452294162784\n",
       "\\item[`23`] 97.2748506452224\n",
       "\\item[`3`] -321.441762080491\n",
       "\\item[`4`] -388.01766977412\n",
       "\\item[`5`] -385.99375312715\n",
       "\\item[`6`] -214.186525635494\n",
       "\\item[`7`] 111.489415516656\n",
       "\\item[`8`] 467.023202385931\n",
       "\\item[`9`] <NA>\n",
       "\\item[AUTUMN] 351.62362329641\n",
       "\\item[SPRING] 199.072807368548\n",
       "\\item[SUMMER] 189.208099737341\n",
       "\\item[WINTER] <NA>\n",
       "\\item[HOLIDAY] -108.115653645526\n",
       "\\item[NO\\textbackslash{}\\_HOLIDAY] <NA>\n",
       "\\end{description*}\n"
      ],
      "text/markdown": [
       "(Intercept)\n",
       ":   284.292757511308TEMPERATURE\n",
       ":   475.748159551769HUMIDITY\n",
       ":   -1064.65687724021WIND_SPEED\n",
       ":   -19.4296277600504VISIBILITY\n",
       ":   15.344073483991DEW_POINT_TEMPERATURE\n",
       ":   969.810774420793SOLAR_RADIATION\n",
       ":   274.380902890348RAINFALL\n",
       ":   -2202.31652068903SNOWFALL\n",
       ":   225.492634529742`0`\n",
       ":   -28.6316960272095`1`\n",
       ":   -128.215834077216`10`\n",
       ":   -232.074073144237`11`\n",
       ":   -251.993176285434`12`\n",
       ":   -213.449136724664`13`\n",
       ":   -187.440801795726`14`\n",
       ":   -192.117722210196`15`\n",
       ":   -98.6927483711228`16`\n",
       ":   18.0635972509368`17`\n",
       ":   287.987038459617`18`\n",
       ":   779.282575798856`19`\n",
       ":   484.092517565676`2`\n",
       ":   -234.0792884435`20`\n",
       ":   404.890472351517`21`\n",
       ":   401.315626244883`22`\n",
       ":   320.452294162784`23`\n",
       ":   97.2748506452224`3`\n",
       ":   -321.441762080491`4`\n",
       ":   -388.01766977412`5`\n",
       ":   -385.99375312715`6`\n",
       ":   -214.186525635494`7`\n",
       ":   111.489415516656`8`\n",
       ":   467.023202385931`9`\n",
       ":   &lt;NA&gt;AUTUMN\n",
       ":   351.62362329641SPRING\n",
       ":   199.072807368548SUMMER\n",
       ":   189.208099737341WINTER\n",
       ":   &lt;NA&gt;HOLIDAY\n",
       ":   -108.115653645526NO_HOLIDAY\n",
       ":   &lt;NA&gt;\n",
       "\n"
      ],
      "text/plain": [
       "          (Intercept)           TEMPERATURE              HUMIDITY \n",
       "            284.29276             475.74816           -1064.65688 \n",
       "           WIND_SPEED            VISIBILITY DEW_POINT_TEMPERATURE \n",
       "            -19.42963              15.34407             969.81077 \n",
       "      SOLAR_RADIATION              RAINFALL              SNOWFALL \n",
       "            274.38090           -2202.31652             225.49263 \n",
       "                  `0`                   `1`                  `10` \n",
       "            -28.63170            -128.21583            -232.07407 \n",
       "                 `11`                  `12`                  `13` \n",
       "           -251.99318            -213.44914            -187.44080 \n",
       "                 `14`                  `15`                  `16` \n",
       "           -192.11772             -98.69275              18.06360 \n",
       "                 `17`                  `18`                  `19` \n",
       "            287.98704             779.28258             484.09252 \n",
       "                  `2`                  `20`                  `21` \n",
       "           -234.07929             404.89047             401.31563 \n",
       "                 `22`                  `23`                   `3` \n",
       "            320.45229              97.27485            -321.44176 \n",
       "                  `4`                   `5`                   `6` \n",
       "           -388.01767            -385.99375            -214.18653 \n",
       "                  `7`                   `8`                   `9` \n",
       "            111.48942             467.02320                    NA \n",
       "               AUTUMN                SPRING                SUMMER \n",
       "            351.62362             199.07281             189.20810 \n",
       "               WINTER               HOLIDAY            NO_HOLIDAY \n",
       "                   NA            -108.11565                    NA "
      ]
     },
     "metadata": {},
     "output_type": "display_data"
    }
   ],
   "source": [
    "lm_model_all$fit$coefficients"
   ]
  },
  {
   "cell_type": "markdown",
   "metadata": {},
   "source": [
    "hmm, it's not very clear to compare the coefficients from a long and unsorted list. Next, you need to sort and visualize them using a bar chart\n"
   ]
  },
  {
   "cell_type": "markdown",
   "metadata": {},
   "source": [
    "_TODO:_ Sort the coefficient list in descending order and visualize the result using `ggplot` and `geom_bar` \n"
   ]
  },
  {
   "cell_type": "code",
   "execution_count": null,
   "metadata": {},
   "outputs": [],
   "source": [
    "# Sort coefficient list"
   ]
  },
  {
   "cell_type": "code",
   "execution_count": null,
   "metadata": {},
   "outputs": [],
   "source": [
    "# Visualize the list using ggplot and geom_bar"
   ]
  },
  {
   "cell_type": "markdown",
   "metadata": {},
   "source": [
    "You should see a sorted coefficient bar chart like the following example: \n"
   ]
  },
  {
   "cell_type": "markdown",
   "metadata": {},
   "source": [
    "<a href=\"https://cognitiveclass.ai/\">\n",
    "    <img src=\"https://cf-courses-data.s3.us.cloud-object-storage.appdomain.cloud/IBMDeveloperSkillsNetwork-RP0321EN-SkillsNetwork/labs/module_4/images/coefficient_chart.png\" width=\"600\" align=\"center\">\n",
    "</a>\n"
   ]
  },
  {
   "cell_type": "markdown",
   "metadata": {},
   "source": [
    "Mark down these 'top-ranked variables by coefficient', which will be used for model refinments in the next labs.\n"
   ]
  },
  {
   "cell_type": "markdown",
   "metadata": {},
   "source": [
    "Note that here the main reason we use absolute value is to easily identify important variables, i.e. variables with large magnitudes, no matter it's negative or positive. If we want to interprete the model then it's better to seperate the positive and negative coefficients.\n"
   ]
  },
  {
   "cell_type": "markdown",
   "metadata": {},
   "source": [
    "# Next Steps\n"
   ]
  },
  {
   "cell_type": "markdown",
   "metadata": {},
   "source": [
    "Great! Now you have built a baseline linear regression model to predict hourly bike rent count, with reasonably good performance. In the next lab, you will be refining the baseline model to improve its performance.\n"
   ]
  },
  {
   "cell_type": "markdown",
   "metadata": {},
   "source": [
    "## Authors\n",
    "\n",
    "<a href=\"https://www.linkedin.com/in/yan-luo-96288783/\" target=\"_blank\">Yan Luo</a>\n"
   ]
  },
  {
   "cell_type": "markdown",
   "metadata": {},
   "source": [
    "### Other Contributors\n",
    "\n",
    "Jeff Grossman\n"
   ]
  },
  {
   "cell_type": "markdown",
   "metadata": {},
   "source": [
    "## Change Log\n",
    "\n",
    "| Date (YYYY-MM-DD) | Version | Changed By | Change Description           |\n",
    "| ----------------- | ------- | ---------- | ---------------------------- |\n",
    "| 2021-04-08        | 1.0     | Yan        | Initial version created      |\n",
    "|                   |         |            |                              |\n",
    "|                   |         |            |                              |\n",
    "\n",
    "## <h3 align=\"center\"> © IBM Corporation 2021. All rights reserved. <h3/>\n"
   ]
  }
 ],
 "metadata": {
  "kernelspec": {
   "display_name": "R",
   "language": "R",
   "name": "conda-env-r-r"
  },
  "language_info": {
   "codemirror_mode": "r",
   "file_extension": ".r",
   "mimetype": "text/x-r-source",
   "name": "R",
   "pygments_lexer": "r",
   "version": "3.5.1"
  }
 },
 "nbformat": 4,
 "nbformat_minor": 4
}
